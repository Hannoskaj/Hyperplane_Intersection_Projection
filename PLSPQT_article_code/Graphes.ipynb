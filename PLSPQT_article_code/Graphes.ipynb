{
 "cells": [
  {
   "cell_type": "code",
   "execution_count": 1,
   "id": "40bcc82c",
   "metadata": {},
   "outputs": [],
   "source": [
    "import experiment_generation as EG\n",
    "import channels as Ch\n",
    "import numpy as N"
   ]
  },
  {
   "cell_type": "code",
   "execution_count": 2,
   "id": "82122073",
   "metadata": {},
   "outputs": [
    {
     "name": "stdout",
     "output_type": "stream",
     "text": [
      "Using matplotlib backend: Qt5Agg\n",
      "Populating the interactive namespace from numpy and matplotlib\n"
     ]
    }
   ],
   "source": [
    "%matplotlib inline\n",
    "%pylab\n",
    "import matplotlib as mpl"
   ]
  },
  {
   "cell_type": "code",
   "execution_count": 3,
   "id": "b1ff0fe1",
   "metadata": {},
   "outputs": [],
   "source": [
    "mpl.rcParams['axes.grid'] = True\n",
    "\n",
    "mpl.rcParams['grid.linestyle'] = 'dotted'\n",
    "\n",
    "mpl.rcParams['font.size'] = 12\n",
    "\n",
    "mpl.rcParams['figure.titlesize'] = 16"
   ]
  },
  {
   "cell_type": "code",
   "execution_count": 4,
   "id": "a37f1245",
   "metadata": {},
   "outputs": [],
   "source": [
    "tolcolors_med_contrast={\n",
    "'ly': '#EECC66',\n",
    "'lr': '#EE99AA',\n",
    "'lb': '#6699CC',\n",
    "'dy': '#997700',\n",
    "'dr': '#994455',\n",
    "'db': '#004488',    \n",
    "}\n",
    "custom_cycler = (cycler(color=[tolcolors_med_contrast[ss] for ss in ['db', 'dy', 'lr', 'lb', 'ly', 'dr']]))"
   ]
  },
  {
   "cell_type": "code",
   "execution_count": 8,
   "id": "f5271a76",
   "metadata": {},
   "outputs": [
    {
     "data": {
      "text/plain": [
       "<matplotlib.legend.Legend at 0x7f1ae6135880>"
      ]
     },
     "execution_count": 8,
     "metadata": {},
     "output_type": "execute_result"
    }
   ],
   "source": [
    "spec_custom_cycler = (cycler(color=[tolcolors_med_contrast[ss] for ss in ['lr', 'db', 'lb', 'dy', 'ly']]))\n",
    "\n",
    "fig, axes = subplots(dpi=300)\n",
    "axes.set_prop_cycle(spec_custom_cycler)\n",
    "#for proj in ['HIPswitch','Dykstra','Alternate','pureHIP','oneHIP']:\n",
    "for proj in ['oneHIP', 'HIPswitch', 'pureHIP', 'Dykstra','Alternate']:\n",
    "        ex = EG.retrieve_main(f'article_experiments/compare_QFT_1e7.h5', proj_type=proj)\n",
    "        if proj=='Alternate':\n",
    "            proj='AP'\n",
    "        plot(np.log10(-ex['least_ev']), label=proj)#, linewidth=1)\n",
    "\n",
    "\n",
    "axes.set_ylabel(\"$\\log_{10}(-\\lambda_{min})$\", fontsize='large')\n",
    "\n",
    "axes.set_xlabel(\"Iteration\", fontsize='large')\n",
    "\n",
    "axes.legend()\n"
   ]
  },
  {
   "cell_type": "code",
   "execution_count": 295,
   "id": "38d08ce3",
   "metadata": {},
   "outputs": [],
   "source": [
    "fig, axes = subplots()\n",
    "axes.set_prop_cycle(custom_cycler)\n",
    "#for proj in ['HIPswitch','Dykstra','Alternate','pureHIP','oneHIP']:\n",
    "for proj in ['oneHIP', 'HIPswitch', 'pureHIP', 'Dykstra','Alternate']:\n",
    "        ex = EG.retrieve_main(f'article_experiments/compare_QFT_1e7.h5', proj_type=proj)\n",
    "        plot(np.log10((ex['dist_L2'][1:-1]-0.0437333225952)), label=proj)#, linewidth=1)\n"
   ]
  },
  {
   "cell_type": "code",
   "execution_count": 11,
   "id": "5870851f",
   "metadata": {},
   "outputs": [
    {
     "data": {
      "text/plain": [
       "<matplotlib.legend.Legend at 0x7f1ae24c77f0>"
      ]
     },
     "execution_count": 11,
     "metadata": {},
     "output_type": "execute_result"
    }
   ],
   "source": [
    "fig, ax = subplots(dpi=300)\n",
    "ax.set_prop_cycle(custom_cycler)\n",
    "\n",
    "x = np.linspace(2e5, 1.2e8)\n",
    "\n",
    "ss=[]\n",
    "L1LS = []\n",
    "L1f = []\n",
    "for n in ['3e5', '1e6', '3e6', '1e7', '3e7', '1e8']:\n",
    "#for n in ['3e5']: \n",
    "    for i in range(10):\n",
    "        ex = EG.retrieve_main(f'article_experiments/sample_size_QFT_{n}.h5', exp_number=i)\n",
    "        ss.append(ex['sample_size'])\n",
    "        L1LS.append(ex['dist_L1'][0])\n",
    "        L1f.append(ex['dist_L1'][-1])\n",
    "\n",
    "\n",
    "loglog(x, ex['dist_L1'][0] / np.sqrt(x / 1e8), color=tolcolors_med_contrast['ly'])\n",
    "loglog(x, 3 * ex['dist_L1'][0] / (np.sqrt(x / 1e8) * 4**5), color=tolcolors_med_contrast['lb'])\n",
    "loglog(x, 4.5 * ex['dist_L1'][0] / (np.sqrt(x / 1e8) * 4**5), color=tolcolors_med_contrast['lb'])\n",
    "        \n",
    "        \n",
    "sc1 = scatter(ss, L1LS, color=tolcolors_med_contrast['dy'], s=2, label='LS estimator', zorder=2.5)\n",
    "sc2 = scatter(ss, L1f, color=tolcolors_med_contrast['db'], s=2, label='Final estimator', zorder=2.5)\n",
    "        #scatter(ex['sample_size'], ex['dist_L1'][1], color='b')\n",
    "\n",
    "ax.set_ylabel(\"Trace norm loss\", fontsize='large', x=8)\n",
    "ax.yaxis.set_label_coords(-.1, .5)\n",
    "\n",
    "ax.set_xlabel(\"Sample size\", fontsize='large')\n",
    "ax.xaxis.set_label_coords(.5, -.12)\n",
    "subplots_adjust(bottom=.15)\n",
    "\n",
    "ax.legend(scatteryoffsets=(.5,.5), markerscale=5)#, *sc2.legend_elements(prop=\"sizes\"))"
   ]
  },
  {
   "cell_type": "code",
   "execution_count": 12,
   "id": "7a1335cb",
   "metadata": {},
   "outputs": [
    {
     "data": {
      "text/plain": [
       "[<matplotlib.lines.Line2D at 0x7feb46c2b490>]"
      ]
     },
     "execution_count": 12,
     "metadata": {},
     "output_type": "execute_result"
    }
   ],
   "source": [
    "x = np.linspace(2e5, 1.2e8)\n",
    "plot(x, y8 / np.sqrt(x / 1e8))"
   ]
  },
  {
   "cell_type": "code",
   "execution_count": 13,
   "id": "883efeae",
   "metadata": {},
   "outputs": [
    {
     "data": {
      "text/plain": [
       "[<matplotlib.lines.Line2D at 0x7feb46c2bb50>]"
      ]
     },
     "execution_count": 13,
     "metadata": {},
     "output_type": "execute_result"
    }
   ],
   "source": [
    "plot(x, ex['dist_L1'][0] / np.sqrt(x / 1e8))"
   ]
  },
  {
   "cell_type": "code",
   "execution_count": 12,
   "id": "5ae145af",
   "metadata": {},
   "outputs": [
    {
     "data": {
      "text/plain": [
       "<matplotlib.legend.Legend at 0x7f1ae22e93a0>"
      ]
     },
     "execution_count": 12,
     "metadata": {},
     "output_type": "execute_result"
    }
   ],
   "source": [
    "fig, ax1 = subplots(dpi=150, figsize=(6, 4))\n",
    "rank = []\n",
    "L1t = []\n",
    "L1f = []\n",
    "L1tmin = [0]\n",
    "for f in ['1', '2', '4', '8', '16', '32']:\n",
    "    for i in range(10):\n",
    "        rank.append(int(f))\n",
    "        ex = EG.retrieve_main(f'article_experiments/rank_equal{f}.h5', exp_number=i)\n",
    "        L1t.append(ex['dist_L1'][-1])\n",
    "        ex = EG.retrieve_main(f'article_experiments/rank_equal{f}_1e6_False.h5', exp_number=i)\n",
    "        L1f.append(ex['dist_L1'][-1])      \n",
    "    L1tmin.append(N.min(L1t[-10:]))\n",
    "scatter(rank, L1t, color=tolcolors_med_contrast['db'], s=10, label=\"$10^6$\")\n",
    "scatter(rank, L1f, color=tolcolors_med_contrast['lb'], s=10, label=\"$10^6$, no thres\")\n",
    "plot([0, 1, 2, 4, 8, 16, 32], L1tmin, color=tolcolors_med_contrast['db'])\n",
    "\n",
    "\n",
    "rank = []\n",
    "L1t = []\n",
    "L1f = []\n",
    "L1tmin = [0]\n",
    "for f in ['1', '2', '4', '8', '16', '32']:\n",
    "    for i in range(10):\n",
    "        rank.append(int(f))\n",
    "        ex = EG.retrieve_main(f'article_experiments/rank_equal{f}_1e8.h5', exp_number=i)\n",
    "        L1t.append(ex['dist_L1'][-1])\n",
    "        ex = EG.retrieve_main(f'article_experiments/rank_equal{f}_1e8_False.h5', exp_number=i)\n",
    "        L1f.append(ex['dist_L1'][-1])    \n",
    "    L1tmin.append(N.min(L1t[-10:]))\n",
    "scatter(rank, L1t, color=tolcolors_med_contrast['dr'], s=10, label=\"$10^8$\")\n",
    "scatter(rank, L1f, color=tolcolors_med_contrast['lr'], s=10, label=\"$10^8$, no thres\")\n",
    "plot([0, 1, 2, 4, 8, 16, 32], L1tmin, color=tolcolors_med_contrast['dr'])\n",
    "\n",
    "\n",
    "rank = []\n",
    "L1t = []\n",
    "L1f = []\n",
    "L1tmin = [0]\n",
    "for f in ['1', '2', '4', '8', '16', '32']:\n",
    "    for i in range(10):\n",
    "        rank.append(int(f))\n",
    "        ex = EG.retrieve_main(f'article_experiments/rank_equal{f}_1e7.h5', exp_number=i)\n",
    "        L1t.append(ex['dist_L1'][-1])\n",
    "        ex = EG.retrieve_main(f'article_experiments/rank_equal{f}_1e7_False.h5', exp_number=i)\n",
    "        L1f.append(ex['dist_L1'][-1])    \n",
    "    L1tmin.append(N.min(L1t[-10:]))\n",
    "\n",
    "scatter(rank, L1t, color=tolcolors_med_contrast['dy'], s=10, label=\"$10^7$\")\n",
    "scatter(rank, L1f, color=tolcolors_med_contrast['ly'], s=10, label=\"$10^7$, no thres\")\n",
    "plot([0, 1, 2, 4, 8, 16, 32], L1tmin, color=tolcolors_med_contrast['dy'])\n",
    "\n",
    "\n",
    "#ax1.set_ylim(0.025, 2.1)\n",
    "ax1.set_ylim(0, 2)\n",
    "#ax1.set_xscale('log')\n",
    "#ax1.set_yscale('log')\n",
    "\n",
    "ax1.set_xlim(0)\n",
    "#ax1.set_xticks([], minor=True)\n",
    "#ax1.set_xticks([1, 2, 4, 8, 16, 32])\n",
    "#ax1.set_xticklabels([1, 2, 4, 8, 16, 32])\n",
    "\n",
    "#ax1.set_yticks([], minor=True)\n",
    "#yl = [.025, .05, .1, .25, .5,  1, 1.5, 2]\n",
    "#ax1.set_yticks(yl)\n",
    "#ax1.set_yticklabels(yl)\n",
    "\n",
    "ax1.set_ylabel(\"Trace norm loss\", fontsize='large')\n",
    "\n",
    "ax1.set_xlabel(\"Rank\", fontsize='large')\n",
    "\n",
    "subplots_adjust(left=.15)\n",
    "\n",
    "ax1.legend(title=\"Samples\", loc='lower right', bbox_to_anchor=(1, -.05), scatteryoffsets=(.5,.5), markerscale=2)"
   ]
  },
  {
   "cell_type": "code",
   "execution_count": 449,
   "id": "01cb144a",
   "metadata": {},
   "outputs": [],
   "source": [
    "ax1.legend(title=\"Samples\", loc='lower right', bbox_to_anchor=(1, -.05), scatteryoffsets=(.5,.5), markerscale=2)\n",
    "subplots_adjust(left=.15)"
   ]
  },
  {
   "cell_type": "code",
   "execution_count": 388,
   "id": "f11ff11a",
   "metadata": {},
   "outputs": [
    {
     "data": {
      "text/plain": [
       "[Text(0, 0.02, '0.02'),\n",
       " Text(0, 0.03, '0.03'),\n",
       " Text(0, 0.1, '0.1'),\n",
       " Text(0, 0.3, '0.3'),\n",
       " Text(0, 1.0, '1'),\n",
       " Text(0, 2.0, '2')]"
      ]
     },
     "execution_count": 388,
     "metadata": {},
     "output_type": "execute_result"
    }
   ],
   "source": [
    "ax1.set_ylim(0.02, 2.1)\n",
    "\n",
    "yl = [.02, .03, .1,  .3,  1,  2]\n",
    "ax1.set_yticks(yl)\n",
    "ax1.set_yticklabels(yl)"
   ]
  },
  {
   "cell_type": "code",
   "execution_count": 416,
   "id": "f1a11e97",
   "metadata": {},
   "outputs": [
    {
     "data": {
      "text/plain": [
       "{'sample_size': 99995175,\n",
       " 'time_proj': 12.081388040678576,\n",
       " 'dist_L2': array([0.31209347, 0.01827147, 0.01826293, 0.0182585 , 0.01825414,\n",
       "        0.01824971, 0.01824537, 0.01824094, 0.01534803, 0.01533054,\n",
       "        0.01532989, 0.0153297 , 0.01530783, 0.01529821, 0.01529807,\n",
       "        0.01529799, 0.01529792, 0.01529784, 0.01529777, 0.01529769,\n",
       "        0.01529762, 0.01529754, 0.01529747, 0.0152974 , 0.01527994,\n",
       "        0.01527376, 0.01526689, 0.01526661, 0.01526642, 0.01526637,\n",
       "        0.01526587, 0.01526581, 0.01526556, 0.01526552, 0.01526491,\n",
       "        0.01526485, 0.01526476, 0.01526474, 0.01526372, 0.01526352,\n",
       "        0.01526351, 0.0152635 , 0.01526351, 0.01565856]),\n",
       " 'dist_L1': array([8.4396913 , 0.02583976, 0.02691893, 0.02749777]),\n",
       " 'dist_Linfty': array([0.01987705, 0.01291988, 0.01306717, 0.01374889]),\n",
       " 'least_ev': array([-1.98092099e-02, -3.33840858e-05, -3.33177707e-05, -3.32574747e-05,\n",
       "        -7.01716737e-04, -6.42064241e-06, -4.81305024e-04, -5.20812602e-06,\n",
       "        -3.18734002e-06, -3.16511836e-06, -3.15121264e-06, -3.13938801e-06,\n",
       "        -2.83060084e-04, -7.93475134e-05, -1.32398664e-05, -2.05425183e-05,\n",
       "        -6.73368103e-06, -2.48956834e-05, -2.52752270e-06, -4.37910228e-05,\n",
       "        -1.06133376e-06, -1.06133376e-06]),\n",
       " 'evs_error': array([[-1.98770509e-02, -1.96950037e-02, -1.94077490e-02, ...,\n",
       "          1.94435424e-02,  1.95309332e-02,  1.97770617e-02],\n",
       "        [-1.29198797e-02, -2.74447970e-17, -2.57612021e-17, ...,\n",
       "          2.22420977e-17,  2.50778624e-17,  1.29198797e-02],\n",
       "        [-1.30671659e-02, -1.06133376e-06, -1.06133376e-06, ...,\n",
       "          2.12553241e-04,  3.66584551e-04,  7.86870702e-03],\n",
       "        [-1.37488874e-02,  9.30667045e-17,  9.32048268e-17, ...,\n",
       "          2.13377901e-04,  3.67224828e-04,  7.47260650e-03]])}"
      ]
     },
     "execution_count": 416,
     "metadata": {},
     "output_type": "execute_result"
    }
   ],
   "source": [
    "EG.retrieve_main(f'article_experiments/rank_equal1_1e8.h5', exp_number=0)"
   ]
  },
  {
   "cell_type": "code",
   "execution_count": 402,
   "id": "3a49f7bc",
   "metadata": {},
   "outputs": [],
   "source": [
    "EG.retrieve_main?"
   ]
  },
  {
   "cell_type": "code",
   "execution_count": 30,
   "id": "437ab914",
   "metadata": {},
   "outputs": [
    {
     "name": "stderr",
     "output_type": "stream",
     "text": [
      "/home/jokahn/.science/lib/python3.8/site-packages/ipykernel/eventloops.py:105: UserWarning: Attempted to set non-positive bottom ylim on a log-scaled axis.\n",
      "Invalid limit will be ignored.\n",
      "  app.exec_()\n"
     ]
    }
   ],
   "source": [
    "figure()\n",
    "for i in range(10):\n",
    "    for f in ['1', '2', '4', '8', '16', '32']:\n",
    "        ex = EG.retrieve_main(f'article_experiments/rank_equal{f}_1e8.h5', exp_number=i)\n",
    "        scatter(int(f),  ex['dist_L1'][-1], color='C0')\n",
    "        #scatter(int(f),  ex['dist_L1'][1])\n",
    "        exF = EG.retrieve_main(f'article_experiments/rank_equal{f}_1e8_False.h5', exp_number=i)\n",
    "        scatter(int(f),  exF['dist_L1'][-1], color='C1')\n",
    "        #scatter(int(f),  ex['dist_L1'][1])  "
   ]
  },
  {
   "cell_type": "code",
   "execution_count": 46,
   "id": "e622c1cf",
   "metadata": {},
   "outputs": [],
   "source": [
    "figure()\n",
    "for i in range(10):\n",
    "    for f in ['1', '2', '4', '8', '16']:\n",
    "        ex = EG.retrieve_main(f'article_experiments/rank_geom{f}.h5', exp_number=i)\n",
    "        scatter(int(f),  ex['dist_L1'][-1], color='C0')\n",
    "        #scatter(int(f),  ex['dist_L1'][1])\n",
    "        exF = EG.retrieve_main(f'article_experiments/rank_geom{f}_1e6_False.h5', exp_number=i)\n",
    "        scatter(int(f),  exF['dist_L1'][-1], color='C1')\n",
    "        #scatter(int(f),  ex['dist_L1'][1])  "
   ]
  },
  {
   "cell_type": "code",
   "execution_count": 59,
   "id": "5adc8d32",
   "metadata": {},
   "outputs": [],
   "source": [
    "def est_manq(evs, seuil):\n",
    "    return 2 * N.clip(evs, a_min=None, a_max=seuil).sum()"
   ]
  },
  {
   "cell_type": "code",
   "execution_count": 60,
   "id": "f1925a01",
   "metadata": {},
   "outputs": [],
   "source": [
    "N.clip?"
   ]
  },
  {
   "cell_type": "code",
   "execution_count": 61,
   "id": "f2e3f993",
   "metadata": {},
   "outputs": [],
   "source": [
    "def geomevs(dim, mult, rank=32):\n",
    "    weights_unnormalized = mult**np.arange(rank)\n",
    "    weights = weights_unnormalized / (weights_unnormalized).sum()\n",
    "    return weights"
   ]
  },
  {
   "cell_type": "code",
   "execution_count": 65,
   "id": "206a9ced",
   "metadata": {},
   "outputs": [
    {
     "data": {
      "text/plain": [
       "[0.2078125,\n",
       " 0.325,\n",
       " 0.525,\n",
       " 0.8499999995925465,\n",
       " 1.2999771114671548,\n",
       " 1.7860275350615555,\n",
       " 1.9999999999999998]"
      ]
     },
     "execution_count": 65,
     "metadata": {},
     "output_type": "execute_result"
    }
   ],
   "source": [
    "\n",
    "[est_manq(geomevs(4**5, 4**(1/i)), .1) for i in [.25, .5, 1, 2, 4, 8, 16]]"
   ]
  },
  {
   "cell_type": "code",
   "execution_count": 66,
   "id": "832e7f58",
   "metadata": {},
   "outputs": [
    {
     "data": {
      "text/plain": [
       "[0.6078125,\n",
       " 0.725,\n",
       " 1.0999999999999999,\n",
       " 1.5999999997671694,\n",
       " 2.0,\n",
       " 2.0,\n",
       " 1.9999999999999998]"
      ]
     },
     "execution_count": 66,
     "metadata": {},
     "output_type": "execute_result"
    }
   ],
   "source": [
    "\n",
    "[est_manq(geomevs(4**5, 4**(1/i)), .3) for i in [.25, .5, 1, 2, 4, 8, 16]]"
   ]
  },
  {
   "cell_type": "code",
   "execution_count": 68,
   "id": "6b8efc57",
   "metadata": {},
   "outputs": [
    {
     "data": {
      "text/plain": [
       "3.903127820947817e-18"
      ]
     },
     "execution_count": 68,
     "metadata": {},
     "output_type": "execute_result"
    }
   ],
   "source": [
    "import scipy.stats as SS\n",
    "SS.hmean(geomevs(2**5, 4))"
   ]
  },
  {
   "cell_type": "code",
   "execution_count": 34,
   "id": "ec91a43a",
   "metadata": {},
   "outputs": [
    {
     "name": "stderr",
     "output_type": "stream",
     "text": [
      "/home/jokahn/.science/lib/python3.8/site-packages/ipykernel/eventloops.py:105: UserWarning: Attempted to set non-positive left xlim on a log-scaled axis.\n",
      "Invalid limit will be ignored.\n",
      "  app.exec_()\n"
     ]
    }
   ],
   "source": [
    "figure()\n",
    "for i in range(10):\n",
    "    for d in [3, 7, 11, 17, 31, 67]:\n",
    "        ex = EG.retrieve_main(f'article_experiments/dimension_{d}_MUBs.h5', exp_number=i)\n",
    "        scatter(d,  ex['dist_L1'][-1], color='C0')"
   ]
  },
  {
   "cell_type": "code",
   "execution_count": null,
   "id": "887caf08",
   "metadata": {},
   "outputs": [],
   "source": [
    "for i in range(9):\n",
    "    for d in [3, 7, 11, 17, 31, 67]:\n",
    "        ex = EG.retrieve_main(f'article_experiments/dimension_{d}_MUBs.h5', exp_number=i)\n",
    "        scatter(d,  ex['dist_L1'][-1], color='C0')"
   ]
  },
  {
   "cell_type": "code",
   "execution_count": 37,
   "id": "cb93e776",
   "metadata": {},
   "outputs": [],
   "source": [
    "for k in range(1, 7):\n",
    "    ex = EG.retrieve_main(f'article_experiments/dimension_{k}_qubits.h5', exp_number=0)\n",
    "    scatter(2**k,  ex['dist_L1'][-1], color='C1')   \n",
    "    for i in range(9):\n",
    "        ex = EG.retrieve_main(f'article_experiments/dimension_{k}_qubits_bis.h5', exp_number=i)\n",
    "        scatter(2**k,  ex['dist_L1'][-1], color='C1')          "
   ]
  },
  {
   "cell_type": "code",
   "execution_count": 18,
   "id": "b7349c6c",
   "metadata": {},
   "outputs": [],
   "source": [
    "L = {}\n",
    "for d in [3, 7, 11, 17, 31, 67]:\n",
    "    L[d] = []\n",
    "    for i in range(10):\n",
    "        ex = EG.retrieve_main(f'article_experiments/dimension_{d}_MUBs.h5', exp_number=i)\n",
    "        L[d].append(ex['dist_L1'][-1])  "
   ]
  },
  {
   "cell_type": "code",
   "execution_count": 19,
   "id": "12c05823",
   "metadata": {},
   "outputs": [],
   "source": [
    "MUBs_loss = [(key, mean(value)) for key, value in L.items()]\n",
    "    "
   ]
  },
  {
   "cell_type": "code",
   "execution_count": 17,
   "id": "ee6c150f",
   "metadata": {},
   "outputs": [],
   "source": [
    "P = {}\n",
    "for k in range(1, 7):\n",
    "    ex = EG.retrieve_main(f'article_experiments/dimension_{k}_qubits.h5', exp_number=0)\n",
    "    P[2**k] = [ex['dist_L1'][-1]]  \n",
    "    for i in range(9):\n",
    "        ex = EG.retrieve_main(f'article_experiments/dimension_{k}_qubits_bis.h5', exp_number=i)\n",
    "        P[2**k].append(ex['dist_L1'][-1])\n",
    "Pauli_loss = [(key, mean(value)) for key, value in P.items()]"
   ]
  },
  {
   "cell_type": "code",
   "execution_count": 92,
   "id": "0db7e59d",
   "metadata": {},
   "outputs": [
    {
     "data": {
      "text/plain": [
       "<matplotlib.legend.Legend at 0x7fa9622841c0>"
      ]
     },
     "execution_count": 92,
     "metadata": {},
     "output_type": "execute_result"
    }
   ],
   "source": [
    "fig, (ax1, ax2) = subplots(ncols=2, sharex=True)\n",
    "ax1.plot([xy[0] for xy in  Pauli_loss], [xy[1] for xy in Pauli_loss], label='Pauli')\n",
    "ax1.plot([xy[0] for xy in  MUBs_loss], [xy[1] for xy in MUBs_loss],label='MUBs')\n",
    "\n",
    "ax1.set_xscale('log')\n",
    "\n",
    "ax1.set_xticks([], minor=True)\n",
    "ax1.set_xticks([2, 4, 8, 16, 32, 64])\n",
    "ax1.set_xticklabels([2, 4, 8, 16, 32, 64])\n",
    "\n",
    "\n",
    "ax1.set_ylim(0, 0.6)\n",
    "\n",
    "ax1.set_ylabel(\"$L^1$ loss\", fontsize='large')\n",
    "\n",
    "ax1.set_xlabel(\"Dimension\", fontsize='large')\n",
    "\n",
    "ax1.legend()"
   ]
  },
  {
   "cell_type": "code",
   "execution_count": 85,
   "id": "4e31fcb2",
   "metadata": {},
   "outputs": [],
   "source": [
    "fig.set_constrained_layout?"
   ]
  },
  {
   "cell_type": "code",
   "execution_count": 88,
   "id": "863208ec",
   "metadata": {},
   "outputs": [
    {
     "data": {
      "text/plain": [
       "GridSpec(1, 2)"
      ]
     },
     "execution_count": 88,
     "metadata": {},
     "output_type": "execute_result"
    }
   ],
   "source": [
    "GridSpec(1, 2, figure=fig)"
   ]
  },
  {
   "cell_type": "code",
   "execution_count": 90,
   "id": "a597b56e",
   "metadata": {},
   "outputs": [],
   "source": [
    "ax1.set_box_aspect(.5)"
   ]
  },
  {
   "cell_type": "code",
   "execution_count": 91,
   "id": "4c9685d8",
   "metadata": {},
   "outputs": [
    {
     "data": {
      "text/plain": [
       "[<matplotlib.axis.XTick at 0x7fa96265ce20>,\n",
       " <matplotlib.axis.XTick at 0x7fa96265ceb0>,\n",
       " <matplotlib.axis.XTick at 0x7fa9629ff220>,\n",
       " <matplotlib.axis.XTick at 0x7fa9619deb80>,\n",
       " <matplotlib.axis.XTick at 0x7fa962d208e0>,\n",
       " <matplotlib.axis.XTick at 0x7fa9619de880>]"
      ]
     },
     "execution_count": 91,
     "metadata": {},
     "output_type": "execute_result"
    }
   ],
   "source": [
    "ax1.set_xticks([2, 4, 8, 16, 32, 64])\n"
   ]
  },
  {
   "cell_type": "code",
   "execution_count": 93,
   "id": "4ffc0c1c",
   "metadata": {},
   "outputs": [
    {
     "ename": "IndentationError",
     "evalue": "unexpected indent (<ipython-input-93-c1aaac63f059>, line 2)",
     "output_type": "error",
     "traceback": [
      "\u001b[0;36m  File \u001b[0;32m\"<ipython-input-93-c1aaac63f059>\"\u001b[0;36m, line \u001b[0;32m2\u001b[0m\n\u001b[0;31m    d=3\u001b[0m\n\u001b[0m    ^\u001b[0m\n\u001b[0;31mIndentationError\u001b[0m\u001b[0;31m:\u001b[0m unexpected indent\n"
     ]
    }
   ],
   "source": [
    "#for d in [3, 7, 11, 17, 31, 67]:\n",
    "        d=3\n",
    "        ex = EG.tables.open_file(f'article_experiments/dimension_{d}_MUBs.h5','r')\n",
    "    "
   ]
  },
  {
   "cell_type": "code",
   "execution_count": 102,
   "id": "1969780c",
   "metadata": {},
   "outputs": [],
   "source": [
    "d=67\n",
    "ex = EG.tables.open_file(f'article_experiments/dimension_{d}_MUBs.h5','r')\n",
    "    "
   ]
  },
  {
   "cell_type": "code",
   "execution_count": 103,
   "id": "8bbb0e18",
   "metadata": {},
   "outputs": [
    {
     "data": {
      "text/plain": [
       "4063.265250538825"
      ]
     },
     "execution_count": 103,
     "metadata": {},
     "output_type": "execute_result"
    }
   ],
   "source": [
    "ex.root.exp_repet0.projection_HIPswitch.loops.attrs.computation_time"
   ]
  },
  {
   "cell_type": "code",
   "execution_count": 104,
   "id": "6daa95c8",
   "metadata": {},
   "outputs": [
    {
     "data": {
      "text/plain": [
       "159"
      ]
     },
     "execution_count": 104,
     "metadata": {},
     "output_type": "execute_result"
    }
   ],
   "source": [
    "len(ex.root.exp_repet0.projection_HIPswitch.loops)"
   ]
  },
  {
   "cell_type": "code",
   "execution_count": 106,
   "id": "29727a75",
   "metadata": {},
   "outputs": [
    {
     "data": {
      "text/plain": [
       "21.546469032997265"
      ]
     },
     "execution_count": 106,
     "metadata": {},
     "output_type": "execute_result"
    }
   ],
   "source": [
    "ex.root.exp_repet0.projection_HIPswitch.loops.cols.CP_proj_time[10]"
   ]
  },
  {
   "cell_type": "code",
   "execution_count": 107,
   "id": "7c990fdd",
   "metadata": {},
   "outputs": [
    {
     "data": {
      "text/plain": [
       "25.553459119496857"
      ]
     },
     "execution_count": 107,
     "metadata": {},
     "output_type": "execute_result"
    }
   ],
   "source": [
    "4063 / 159"
   ]
  },
  {
   "cell_type": "code",
   "execution_count": 15,
   "id": "ab8d813e",
   "metadata": {},
   "outputs": [],
   "source": [
    "MUBs_time_per_loop = []\n",
    "MUBs_total_comp_time = []\n",
    "for d in [3, 7, 11, 17, 31, 67]:\n",
    "    ex = EG.tables.open_file(f'article_experiments/dimension_{d}_MUBs.h5','r')\n",
    "    comp_time = 0\n",
    "    nloops = 0\n",
    "    dgt = 0\n",
    "    for i in range(10):\n",
    "        comp_time += eval(f'ex.root.exp_repet{i}.projection_HIPswitch.loops.attrs.computation_time')\n",
    "        nloops += eval(f'len(ex.root.exp_repet{i}.projection_HIPswitch.loops)')   \n",
    "        dgt += eval(f'ex.root.exp_repet{i}.initialisation.cols.data_generation_and_LS_time[:]')\n",
    "    MUBs_total_comp_time.append((d, (ex.root.summary.attrs.total_computation_time - dgt) / 10))\n",
    "    MUBs_time_per_loop.append((d, comp_time / nloops))"
   ]
  },
  {
   "cell_type": "code",
   "execution_count": 71,
   "id": "f059f570",
   "metadata": {},
   "outputs": [
    {
     "data": {
      "text/plain": [
       "([(3, 0.0005160547109281129),\n",
       "  (7, 0.0024995891344588017),\n",
       "  (11, 0.007848404878533857),\n",
       "  (17, 0.04031915378900582),\n",
       "  (31, 0.38843643754892737),\n",
       "  (67, 25.422260774910477)],\n",
       " [(3, array([0.00270929])),\n",
       "  (7, array([0.03351816])),\n",
       "  (11, array([0.14528062])),\n",
       "  (17, array([1.25374907])),\n",
       "  (31, array([19.73730766])),\n",
       "  (67, array([3953.88303335]))])"
      ]
     },
     "execution_count": 71,
     "metadata": {},
     "output_type": "execute_result"
    }
   ],
   "source": [
    "MUBs_time_per_loop, MUBs_total_comp_time"
   ]
  },
  {
   "cell_type": "code",
   "execution_count": 14,
   "id": "a291357d",
   "metadata": {},
   "outputs": [],
   "source": [
    "Pauli_time_per_loop = []\n",
    "Pauli_total_comp_time = []\n",
    "for k in range(1, 7):\n",
    "    ex = EG.tables.open_file(f'article_experiments/dimension_{k}_qubits.h5','r')\n",
    "    comp_time = eval(f'ex.root.exp_repet0.projection_HIPswitch.loops.attrs.computation_time')\n",
    "    nloops = eval(f'len(ex.root.exp_repet0.projection_HIPswitch.loops)')  \n",
    "    dgt = eval(f'ex.root.exp_repet0.initialisation.cols.data_generation_and_LS_time[:]')\n",
    "    tct = ex.root.summary.attrs.total_computation_time\n",
    "    ex = EG.tables.open_file(f'article_experiments/dimension_{k}_qubits_bis.h5','r')    \n",
    "    for i in range(9):\n",
    "        comp_time += eval(f'ex.root.exp_repet{i}.projection_HIPswitch.loops.attrs.computation_time')\n",
    "        nloops += eval(f'len(ex.root.exp_repet{i}.projection_HIPswitch.loops)')   \n",
    "        dgt += eval(f'ex.root.exp_repet{i}.initialisation.cols.data_generation_and_LS_time[:]')\n",
    "    tct += ex.root.summary.attrs.total_computation_time\n",
    "    Pauli_total_comp_time.append((2**k, (tct - dgt) / 10))\n",
    "    Pauli_time_per_loop.append((2**k, comp_time / nloops))"
   ]
  },
  {
   "cell_type": "code",
   "execution_count": 73,
   "id": "4c713749",
   "metadata": {},
   "outputs": [
    {
     "data": {
      "text/plain": [
       "([(2, 0.000468661606178752),\n",
       "  (4, 0.0005765369525021416),\n",
       "  (8, 0.00408351829040353),\n",
       "  (16, 0.034584175727876094),\n",
       "  (32, 0.5468318413540746),\n",
       "  (64, 22.146089105880534)],\n",
       " [(2, array([0.00191954])),\n",
       "  (4, array([0.00372088])),\n",
       "  (8, array([0.04348036])),\n",
       "  (16, array([0.53011263])),\n",
       "  (32, array([16.5886676])),\n",
       "  (64, array([1475.80982673]))])"
      ]
     },
     "execution_count": 73,
     "metadata": {},
     "output_type": "execute_result"
    }
   ],
   "source": [
    "Pauli_time_per_loop, Pauli_total_comp_time"
   ]
  },
  {
   "cell_type": "code",
   "execution_count": 126,
   "id": "2caa9be1",
   "metadata": {},
   "outputs": [
    {
     "data": {
      "text/plain": [
       "(40.54945054945055, 88.90898131404461)"
      ]
     },
     "execution_count": 126,
     "metadata": {},
     "output_type": "execute_result"
    }
   ],
   "source": [
    "22.14 / 0.546, 1475 / 16.59"
   ]
  },
  {
   "cell_type": "code",
   "execution_count": 20,
   "id": "02cda175",
   "metadata": {},
   "outputs": [
    {
     "data": {
      "text/plain": [
       "Text(0.5, 0.05, 'Dimension')"
      ]
     },
     "execution_count": 20,
     "metadata": {},
     "output_type": "execute_result"
    }
   ],
   "source": [
    "fig, (ax1, ax2) = subplots(nrows=2, sharex=True, figsize=[6, 9])\n",
    "ax1.plot([xy[0] for xy in  Pauli_loss], [xy[1] for xy in Pauli_loss], label='Pauli', color=tolcolors_med_contrast['db'])\n",
    "ax1.plot([xy[0] for xy in  MUBs_loss], [xy[1] for xy in MUBs_loss],label='MUBs', color=tolcolors_med_contrast['dy'])\n",
    "\n",
    "ax1.set_xscale('log')\n",
    "\n",
    "ax1.set_xticks([], minor=True)\n",
    "ax1.set_xticks([2, 4, 8, 16, 32, 64])\n",
    "ax1.set_xticklabels([2, 4, 8, 16, 32, 64])\n",
    "\n",
    "\n",
    "ax1.set_ylim(0, 0.6)\n",
    "\n",
    "ax1.set_ylabel(\"Trace norm loss\", fontsize='large')\n",
    "\n",
    "#ax1.set_xlabel(\"Dimension\", fontsize='large')\n",
    "#ax2.set_xlabel(\"Dimension\", fontsize='large')\n",
    "\n",
    "ax1.legend()\n",
    "\n",
    "ax2.plot([xy[0] for xy in  Pauli_time_per_loop], [xy[1] for xy in Pauli_time_per_loop], label='Pauli time per loop',\n",
    "        color=tolcolors_med_contrast['lb'])\n",
    "ax2.plot([xy[0] for xy in  MUBs_time_per_loop], [xy[1] for xy in MUBs_time_per_loop], label='MUBs time per loop',\n",
    "        color=tolcolors_med_contrast['ly'])\n",
    "ax2.plot([xy[0] for xy in  Pauli_total_comp_time], [xy[1] for xy in Pauli_total_comp_time], label='Pauli total time after LS',\n",
    "        color=tolcolors_med_contrast['db'])\n",
    "ax2.plot([xy[0] for xy in  MUBs_total_comp_time], [xy[1] for xy in MUBs_total_comp_time], label='MUBs total time after LS',\n",
    "        color=tolcolors_med_contrast['dy'])\n",
    "\n",
    "ax2.set_yscale('log')\n",
    "ax2.set_ylabel(\"Time (s)\", fontsize='large')\n",
    "ax2.yaxis.set_label_coords(-.1, .55)\n",
    "ax2.legend()\n",
    "\n",
    "#subplots_adjust(wspace=.3, right=.95, left=.1)\n",
    "#fig.suptitle(\"Effect of dimension\", fontsize=16)\n",
    "fig.supxlabel(\"Dimension\", fontsize='large', x=.5, y=.05)"
   ]
  },
  {
   "cell_type": "code",
   "execution_count": 125,
   "id": "7c89203f",
   "metadata": {},
   "outputs": [
    {
     "data": {
      "text/plain": [
       "Text(0.51, 0.03, 'Dimension')"
      ]
     },
     "execution_count": 125,
     "metadata": {},
     "output_type": "execute_result"
    }
   ],
   "source": [
    "subplots_adjust(bottom=.1, top=.95)\n",
    "fig.supxlabel(\"Dimension\", fontsize='large', x=.51, y=.03)\n"
   ]
  },
  {
   "cell_type": "code",
   "execution_count": 110,
   "id": "6946c7d1",
   "metadata": {},
   "outputs": [
    {
     "data": {
      "text/plain": [
       "<matplotlib.legend.Legend at 0x7f2fb30cbac0>"
      ]
     },
     "execution_count": 110,
     "metadata": {},
     "output_type": "execute_result"
    }
   ],
   "source": []
  },
  {
   "cell_type": "code",
   "execution_count": 118,
   "id": "c4897e10",
   "metadata": {},
   "outputs": [],
   "source": []
  },
  {
   "cell_type": "code",
   "execution_count": 213,
   "id": "1a496d87",
   "metadata": {},
   "outputs": [],
   "source": [
    "ax2.grid(linestyle='dotted')"
   ]
  },
  {
   "cell_type": "code",
   "execution_count": 241,
   "id": "ff5dd043",
   "metadata": {},
   "outputs": [],
   "source": [
    "subplots_adjust(wspace=.3, right=.95)"
   ]
  },
  {
   "cell_type": "code",
   "execution_count": 234,
   "id": "46127670",
   "metadata": {},
   "outputs": [
    {
     "data": {
      "text/plain": [
       "Text(0.5, 0.98, 'Effect of dimension')"
      ]
     },
     "execution_count": 234,
     "metadata": {},
     "output_type": "execute_result"
    }
   ],
   "source": [
    "fig.suptitle(\"Effect of dimension\", fontsize=16)"
   ]
  },
  {
   "cell_type": "code",
   "execution_count": 249,
   "id": "edbf8424",
   "metadata": {},
   "outputs": [],
   "source": [
    "fig.supxlabel?"
   ]
  },
  {
   "cell_type": "code",
   "execution_count": null,
   "id": "3a40c2b4",
   "metadata": {},
   "outputs": [],
   "source": []
  },
  {
   "cell_type": "code",
   "execution_count": 5,
   "id": "24055b8a",
   "metadata": {},
   "outputs": [],
   "source": [
    "t12 = EG.tables.open_file('clean_progs/Jonas_experiment_7_qubits/vignette_7_qubits_1e12.h5', 'r')"
   ]
  },
  {
   "cell_type": "code",
   "execution_count": 6,
   "id": "d32af380",
   "metadata": {},
   "outputs": [
    {
     "data": {
      "text/plain": [
       "array([(0.00392976, 0.00180629, 0.00101214, 0.00452471, 0.00174432, 0.00104797, 0.00536477, 0.00212528, 0.00161432, -1., 6, 8.4649111, 0.07812167, 0.00123978, 999999154116, 58005.67123074)],\n",
       "      dtype=[('CP_dist_L1', '<f8'), ('CP_dist_L2', '<f8'), ('CP_dist_Linfty', '<f8'), ('HIPswitch_TPfinal_dist_L1', '<f8'), ('HIPswitch_TPfinal_dist_L2', '<f8'), ('HIPswitch_TPfinal_dist_Linfty', '<f8'), ('HIPswitch_final_dist_L1', '<f8'), ('HIPswitch_final_dist_L2', '<f8'), ('HIPswitch_final_dist_Linfty', '<f8'), ('HIPswitch_max_active_w', '<f8'), ('HIPswitch_number_of_iterations', '<i8'), ('LS_dist_L1', '<f8'), ('LS_dist_L2', '<f8'), ('LS_dist_Linfty', '<f8'), ('sample_size', '<i8'), ('time_exp', '<f8')])"
      ]
     },
     "execution_count": 6,
     "metadata": {},
     "output_type": "execute_result"
    }
   ],
   "source": [
    "t12.root.summary[:]"
   ]
  },
  {
   "cell_type": "code",
   "execution_count": 7,
   "id": "f3b8eebc",
   "metadata": {},
   "outputs": [
    {
     "data": {
      "text/plain": [
       "array([(-1., 0., 0.00452471, 0.00174432, 0.00104797, 0.99897247, -5.22305724e-08, 0.00536477, 0.00212528, 0.00161432, 0.99811646, 117.8123805, -1)],\n",
       "      dtype=[('total_time', '<f8'), ('TP_proj_time', '<f8'), ('TPfinal_dist_L1', '<f8'), ('TPfinal_dist_L2', '<f8'), ('TPfinal_dist_Linfty', '<f8'), ('TPfinal_fidelity', '<f8'), ('TPfinal_least_ev', '<f8'), ('final_dist_L1', '<f8'), ('final_dist_L2', '<f8'), ('final_dist_Linfty', '<f8'), ('final_fidelity', '<f8'), ('final_proj_time', '<f8'), ('number_of_iterations', '<i8')])"
      ]
     },
     "execution_count": 7,
     "metadata": {},
     "output_type": "execute_result"
    }
   ],
   "source": [
    "t12.root.exp_repet0.projection_HIPswitch.end[:]"
   ]
  },
  {
   "cell_type": "code",
   "execution_count": 10,
   "id": "93fb63f6",
   "metadata": {},
   "outputs": [],
   "source": [
    "t8 = EG.tables.open_file('clean_progs/Jonas_experiment_7_qubits/vignette_7_qubits_1e8.h5', 'r')"
   ]
  },
  {
   "cell_type": "code",
   "execution_count": 11,
   "id": "03b8e6c7",
   "metadata": {},
   "outputs": [
    {
     "data": {
      "text/plain": [
       "array([(-1., 0., 0.39229653, 0.16080858, 0.11744183, 0.84401786, -2.5263132e-07, 0.39649712, 0.16223648, 0.11978076, 0.84053928, 654.10074586, -1)],\n",
       "      dtype=[('total_time', '<f8'), ('TP_proj_time', '<f8'), ('TPfinal_dist_L1', '<f8'), ('TPfinal_dist_L2', '<f8'), ('TPfinal_dist_Linfty', '<f8'), ('TPfinal_fidelity', '<f8'), ('TPfinal_least_ev', '<f8'), ('final_dist_L1', '<f8'), ('final_dist_L2', '<f8'), ('final_dist_Linfty', '<f8'), ('final_fidelity', '<f8'), ('final_proj_time', '<f8'), ('number_of_iterations', '<i4')])"
      ]
     },
     "execution_count": 11,
     "metadata": {},
     "output_type": "execute_result"
    }
   ],
   "source": [
    "t8.root.exp_repet0.projection_HIPswitch.end[:]"
   ]
  },
  {
   "cell_type": "code",
   "execution_count": 13,
   "id": "490fbcba",
   "metadata": {},
   "outputs": [
    {
     "data": {
      "text/plain": [
       "array([(0.37848834, 0.1664338, 0.11436093, 0.39229653, 0.16080858, 0.11744183, 0.39649712, 0.16223648, 0.11978076, -1., 179, 846.4937221, 7.8121137, 0.12378013, -221636664, 277588.65913234)],\n",
       "      dtype=[('CP_dist_L1', '<f8'), ('CP_dist_L2', '<f8'), ('CP_dist_Linfty', '<f8'), ('HIPswitch_TPfinal_dist_L1', '<f8'), ('HIPswitch_TPfinal_dist_L2', '<f8'), ('HIPswitch_TPfinal_dist_Linfty', '<f8'), ('HIPswitch_final_dist_L1', '<f8'), ('HIPswitch_final_dist_L2', '<f8'), ('HIPswitch_final_dist_Linfty', '<f8'), ('HIPswitch_max_active_w', '<f8'), ('HIPswitch_number_of_iterations', '<i4'), ('LS_dist_L1', '<f8'), ('LS_dist_L2', '<f8'), ('LS_dist_Linfty', '<f8'), ('sample_size', '<i4'), ('time_exp', '<f8')])"
      ]
     },
     "execution_count": 13,
     "metadata": {},
     "output_type": "execute_result"
    }
   ],
   "source": [
    "t8.root.summary[:]"
   ]
  },
  {
   "cell_type": "code",
   "execution_count": 12,
   "id": "2406f086",
   "metadata": {},
   "outputs": [
    {
     "data": {
      "text/plain": [
       "[<matplotlib.lines.Line2D at 0x7f2fc51b0850>]"
      ]
     },
     "execution_count": 12,
     "metadata": {},
     "output_type": "execute_result"
    }
   ],
   "source": [
    "figure()\n",
    "plot(N.log10(-t8.root.exp_repet0.projection_HIPswitch.loops.cols.TP_least_ev[:]))"
   ]
  },
  {
   "cell_type": "code",
   "execution_count": 30,
   "id": "85ddc4e2",
   "metadata": {},
   "outputs": [],
   "source": [
    "t10 = EG.tables.open_file('clean_progs/Jonas_experiment_7_qubits/vignette_7_qubits_1e10.h5', 'r')"
   ]
  },
  {
   "cell_type": "code",
   "execution_count": 31,
   "id": "4ece90c1",
   "metadata": {},
   "outputs": [
    {
     "data": {
      "text/plain": [
       "array([(0.04449982, 0.01930924, 0.01148048, 0.04899487, 0.01884029, 0.01190757, 0.05317144, 0.02086858, 0.01492901, -1., 41, 84.65478429, 0.78126149, 0.01238586, -511228928, 91005.91143666)],\n",
       "      dtype=[('CP_dist_L1', '<f8'), ('CP_dist_L2', '<f8'), ('CP_dist_Linfty', '<f8'), ('HIPswitch_TPfinal_dist_L1', '<f8'), ('HIPswitch_TPfinal_dist_L2', '<f8'), ('HIPswitch_TPfinal_dist_Linfty', '<f8'), ('HIPswitch_final_dist_L1', '<f8'), ('HIPswitch_final_dist_L2', '<f8'), ('HIPswitch_final_dist_Linfty', '<f8'), ('HIPswitch_max_active_w', '<f8'), ('HIPswitch_number_of_iterations', '<i4'), ('LS_dist_L1', '<f8'), ('LS_dist_L2', '<f8'), ('LS_dist_Linfty', '<f8'), ('sample_size', '<i4'), ('time_exp', '<f8')])"
      ]
     },
     "execution_count": 31,
     "metadata": {},
     "output_type": "execute_result"
    }
   ],
   "source": [
    "t10.root.summary[:]"
   ]
  },
  {
   "cell_type": "code",
   "execution_count": 36,
   "id": "8f2c3bfc",
   "metadata": {},
   "outputs": [
    {
     "data": {
      "text/plain": [
       "<matplotlib.image.AxesImage at 0x7f2fc4d162b0>"
      ]
     },
     "execution_count": 36,
     "metadata": {},
     "output_type": "execute_result"
    }
   ],
   "source": [
    "figure(dpi=300)\n",
    "imshow(t8.root.exp_repet0.projection_HIPswitch.main_eigvecs_final[:,0].real.reshape(128, 128))"
   ]
  },
  {
   "cell_type": "code",
   "execution_count": 44,
   "id": "34efe306",
   "metadata": {},
   "outputs": [
    {
     "data": {
      "text/plain": [
       "<matplotlib.image.AxesImage at 0x7f06a440e100>"
      ]
     },
     "execution_count": 44,
     "metadata": {},
     "output_type": "execute_result"
    }
   ],
   "source": [
    "#figure(dpi=300)\n",
    "matshow(t8.root.exp_repet0.projection_HIPswitch.main_eigvecs_final[:,1].real.reshape(128, 128))"
   ]
  },
  {
   "cell_type": "code",
   "execution_count": 38,
   "id": "579dbab2",
   "metadata": {},
   "outputs": [
    {
     "data": {
      "text/plain": [
       "<matplotlib.image.AxesImage at 0x7f2fc6272a90>"
      ]
     },
     "execution_count": 38,
     "metadata": {},
     "output_type": "execute_result"
    }
   ],
   "source": [
    "figure(dpi=300)\n",
    "imshow(t8.root.exp_repet0.projection_HIPswitch.main_eigvecs_final[:,0].imag.reshape(128, 128))"
   ]
  },
  {
   "cell_type": "code",
   "execution_count": null,
   "id": "3246d75e",
   "metadata": {},
   "outputs": [],
   "source": [
    "N.ar(1+1j)"
   ]
  },
  {
   "cell_type": "code",
   "execution_count": 49,
   "id": "63e1e737",
   "metadata": {},
   "outputs": [],
   "source": [
    "import cmath"
   ]
  },
  {
   "cell_type": "code",
   "execution_count": 51,
   "id": "803bdf00",
   "metadata": {},
   "outputs": [],
   "source": [
    "cmath.polar?"
   ]
  },
  {
   "cell_type": "code",
   "execution_count": 61,
   "id": "484f6556",
   "metadata": {},
   "outputs": [],
   "source": [
    "import cmath\n",
    "def align(ref_vec, test_vec):\n",
    "    phi = cmath.phase(N.vdot(ref_vec, test_vec))\n",
    "    return test_vec * exp(- phi * 1j)"
   ]
  },
  {
   "cell_type": "code",
   "execution_count": 25,
   "id": "10fa4126",
   "metadata": {},
   "outputs": [],
   "source": [
    "v1, v2 = {}, {}\n",
    "for t in [t7, t8, t9, t10, t12]:\n",
    "    v1[t] = align(t.root.main_eigvecs_true[:,1], t.root.exp_repet0.projection_HIPswitch.main_eigvecs_final[:,1]).reshape(128, 128)    \n",
    "    v2[t] = align(t.root.main_eigvecs_true[:,0], t.root.exp_repet0.projection_HIPswitch.main_eigvecs_final[:,0]).reshape(128, 128)"
   ]
  },
  {
   "cell_type": "code",
   "execution_count": 65,
   "id": "dd0eebf7",
   "metadata": {},
   "outputs": [
    {
     "data": {
      "text/plain": [
       "<matplotlib.image.AxesImage at 0x7f06a2ed7700>"
      ]
     },
     "execution_count": 65,
     "metadata": {},
     "output_type": "execute_result"
    }
   ],
   "source": [
    "matshow(v1[t12].real)"
   ]
  },
  {
   "cell_type": "code",
   "execution_count": 7,
   "id": "8137ad0a",
   "metadata": {},
   "outputs": [
    {
     "ename": "NameError",
     "evalue": "name 'v1' is not defined",
     "output_type": "error",
     "traceback": [
      "\u001b[0;31m---------------------------------------------------------------------------\u001b[0m",
      "\u001b[0;31mNameError\u001b[0m                                 Traceback (most recent call last)",
      "\u001b[0;32m<ipython-input-7-a0eff205e800>\u001b[0m in \u001b[0;36m<module>\u001b[0;34m\u001b[0m\n\u001b[0;32m----> 1\u001b[0;31m \u001b[0;32mfor\u001b[0m \u001b[0mitem\u001b[0m\u001b[0;34m,\u001b[0m \u001b[0mvalue\u001b[0m \u001b[0;32min\u001b[0m \u001b[0mv1\u001b[0m\u001b[0;34m:\u001b[0m\u001b[0;34m\u001b[0m\u001b[0;34m\u001b[0m\u001b[0m\n\u001b[0m\u001b[1;32m      2\u001b[0m     \u001b[0mprint\u001b[0m\u001b[0;34m(\u001b[0m\u001b[0mitem\u001b[0m\u001b[0;34m)\u001b[0m\u001b[0;34m\u001b[0m\u001b[0;34m\u001b[0m\u001b[0m\n",
      "\u001b[0;31mNameError\u001b[0m: name 'v1' is not defined"
     ]
    }
   ],
   "source": [
    "for item, value in v1:\n",
    "    print(item)"
   ]
  },
  {
   "cell_type": "code",
   "execution_count": 79,
   "id": "fe4c364b",
   "metadata": {},
   "outputs": [],
   "source": [
    "figure(dpi=256)\n",
    "imshow(t7.root.main_eigvecs_true[:,1].real.reshape(128, 128))\n",
    "grid(False)"
   ]
  },
  {
   "cell_type": "code",
   "execution_count": 83,
   "id": "d0fc1f6e",
   "metadata": {},
   "outputs": [],
   "source": [
    "figure(dpi=256)\n",
    "imshow(t7.root.main_eigvecs_true[:,1].real.reshape(128, 128), cmap='ocean')\n",
    "grid(False)"
   ]
  },
  {
   "cell_type": "code",
   "execution_count": 75,
   "id": "7752925e",
   "metadata": {},
   "outputs": [],
   "source": [
    "figure(dpi=256)\n",
    "imshow(v1[t7].real)\n",
    "grid(False)"
   ]
  },
  {
   "cell_type": "code",
   "execution_count": 76,
   "id": "c41d9208",
   "metadata": {},
   "outputs": [],
   "source": [
    "figure(dpi=256)\n",
    "imshow(v1[t10].real)\n",
    "grid(False)"
   ]
  },
  {
   "cell_type": "code",
   "execution_count": 77,
   "id": "02c36fe1",
   "metadata": {},
   "outputs": [],
   "source": [
    "figure(dpi=256)\n",
    "imshow(v1[t9].real)\n",
    "grid(False)"
   ]
  },
  {
   "cell_type": "code",
   "execution_count": 78,
   "id": "743a0657",
   "metadata": {},
   "outputs": [
    {
     "data": {
      "text/plain": [
       "<matplotlib.colorbar.Colorbar at 0x7f06aacd4250>"
      ]
     },
     "execution_count": 78,
     "metadata": {},
     "output_type": "execute_result"
    }
   ],
   "source": [
    "colorbar()"
   ]
  },
  {
   "cell_type": "code",
   "execution_count": 71,
   "id": "2c02edc3",
   "metadata": {},
   "outputs": [],
   "source": [
    "grid(False)"
   ]
  },
  {
   "cell_type": "code",
   "execution_count": 39,
   "id": "e8a949c0",
   "metadata": {},
   "outputs": [],
   "source": [
    "c6 = EG.tables.open_file('experiments/compare_6qubits.h5', 'r')"
   ]
  },
  {
   "cell_type": "code",
   "execution_count": 42,
   "id": "3df4c98e",
   "metadata": {},
   "outputs": [],
   "source": [
    "c5 = EG.tables.open_file('article_experiments/compare_QFT_1e7.h5', 'r')"
   ]
  },
  {
   "cell_type": "code",
   "execution_count": 43,
   "id": "89ff3ab6",
   "metadata": {},
   "outputs": [
    {
     "data": {
      "text/plain": [
       "array([(0.0986942, 0.04712444, 0.03583673, 0.1398892, 0.07154836, 0.0699446, -1., 299, 0.07361587, 0.05205428, 0.03680793, 0.09875558, 0.0471432, 0.0358511, 0.140242, 0.07171501, 0.070121, -1., 299, 0.07502404, 0.04373332, 0.03751202, 0.07502404, 0.04373332, 0.03751202, -1., 299, 26.80451805, 0.98908355, 0.06207687, 0.07619414, 0.0437727, 0.03715987, 0.07930504, 0.04515809, 0.03965252, -1., 299, 0.07538241, 0.04380948, 0.03769117, 0.07538462, 0.0438101, 0.03769231, -1., 299, 10002249, 1118.49784633)],\n",
       "      dtype=[('Alternate_TPfinal_dist_L1', '<f8'), ('Alternate_TPfinal_dist_L2', '<f8'), ('Alternate_TPfinal_dist_Linfty', '<f8'), ('Alternate_final_dist_L1', '<f8'), ('Alternate_final_dist_L2', '<f8'), ('Alternate_final_dist_Linfty', '<f8'), ('Alternate_max_active_w', '<f8'), ('Alternate_number_of_iterations', '<i4'), ('CP_dist_L1', '<f8'), ('CP_dist_L2', '<f8'), ('CP_dist_Linfty', '<f8'), ('Dykstra_TPfinal_dist_L1', '<f8'), ('Dykstra_TPfinal_dist_L2', '<f8'), ('Dykstra_TPfinal_dist_Linfty', '<f8'), ('Dykstra_final_dist_L1', '<f8'), ('Dykstra_final_dist_L2', '<f8'), ('Dykstra_final_dist_Linfty', '<f8'), ('Dykstra_max_active_w', '<f8'), ('Dykstra_number_of_iterations', '<i4'), ('HIPswitch_TPfinal_dist_L1', '<f8'), ('HIPswitch_TPfinal_dist_L2', '<f8'), ('HIPswitch_TPfinal_dist_Linfty', '<f8'), ('HIPswitch_final_dist_L1', '<f8'), ('HIPswitch_final_dist_L2', '<f8'), ('HIPswitch_final_dist_Linfty', '<f8'), ('HIPswitch_max_active_w', '<f8'), ('HIPswitch_number_of_iterations', '<i4'), ('LS_dist_L1', '<f8'), ('LS_dist_L2', '<f8'), ('LS_dist_Linfty', '<f8'), ('oneHIP_TPfinal_dist_L1', '<f8'), ('oneHIP_TPfinal_dist_L2', '<f8'), ('oneHIP_TPfinal_dist_Linfty', '<f8'), ('oneHIP_final_dist_L1', '<f8'), ('oneHIP_final_dist_L2', '<f8'), ('oneHIP_final_dist_Linfty', '<f8'), ('oneHIP_max_active_w', '<f8'), ('oneHIP_number_of_iterations', '<i4'), ('pureHIP_TPfinal_dist_L1', '<f8'), ('pureHIP_TPfinal_dist_L2', '<f8'), ('pureHIP_TPfinal_dist_Linfty', '<f8'), ('pureHIP_final_dist_L1', '<f8'), ('pureHIP_final_dist_L2', '<f8'), ('pureHIP_final_dist_Linfty', '<f8'), ('pureHIP_max_active_w', '<f8'), ('pureHIP_number_of_iterations', '<i4'), ('sample_size', '<i4'), ('time_exp', '<f8')])"
      ]
     },
     "execution_count": 43,
     "metadata": {},
     "output_type": "execute_result"
    }
   ],
   "source": [
    "c5.root.summary[:]"
   ]
  },
  {
   "cell_type": "code",
   "execution_count": null,
   "id": "735b2017",
   "metadata": {},
   "outputs": [],
   "source": [
    "0.0986 0.073 0.0987 0.075 0.075 0.079"
   ]
  },
  {
   "cell_type": "code",
   "execution_count": 44,
   "id": "aeca0935",
   "metadata": {},
   "outputs": [],
   "source": [
    "c18 = EG.tables.open_file('experiments/test18.h5', 'r')"
   ]
  },
  {
   "cell_type": "code",
   "execution_count": 45,
   "id": "9a5e0419",
   "metadata": {},
   "outputs": [
    {
     "data": {
      "text/plain": [
       "array([(0.14723503, 0.07855978, 0.0699193, 0.1601621, 0.08691869, 0.08008105, 199, 0.13607234, 0.08358684, 0.06803617, 0.14760621, 0.07845311, 0.06992903, 0.16204509, 0.08763525, 0.08102255, 199, 0.14335215, 0.07878088, 0.07167398, 0.14347366, 0.07883265, 0.07173683, 82, 0.14169163, 0.0785611, 0.07068807, 0.14345558, 0.07940256, 0.07172779, 199, 8.29136555, 0.61110533, 0.07634066, 1049435, 26.39100922)],\n",
       "      dtype=[('Alternate_TPfinal_dist_L1', '<f8'), ('Alternate_TPfinal_dist_L2', '<f8'), ('Alternate_TPfinal_dist_Linfty', '<f8'), ('Alternate_final_dist_L1', '<f8'), ('Alternate_final_dist_L2', '<f8'), ('Alternate_final_dist_Linfty', '<f8'), ('Alternate_number_of_iterations', '<i4'), ('CP_dist_L1', '<f8'), ('CP_dist_L2', '<f8'), ('CP_dist_Linfty', '<f8'), ('Dykstra_TPfinal_dist_L1', '<f8'), ('Dykstra_TPfinal_dist_L2', '<f8'), ('Dykstra_TPfinal_dist_Linfty', '<f8'), ('Dykstra_final_dist_L1', '<f8'), ('Dykstra_final_dist_L2', '<f8'), ('Dykstra_final_dist_Linfty', '<f8'), ('Dykstra_number_of_iterations', '<i4'), ('JonasPP_TPfinal_dist_L1', '<f8'), ('JonasPP_TPfinal_dist_L2', '<f8'), ('JonasPP_TPfinal_dist_Linfty', '<f8'), ('JonasPP_final_dist_L1', '<f8'), ('JonasPP_final_dist_L2', '<f8'), ('JonasPP_final_dist_Linfty', '<f8'), ('JonasPP_number_of_iterations', '<i4'), ('Jonas_TPfinal_dist_L1', '<f8'), ('Jonas_TPfinal_dist_L2', '<f8'), ('Jonas_TPfinal_dist_Linfty', '<f8'), ('Jonas_final_dist_L1', '<f8'), ('Jonas_final_dist_L2', '<f8'), ('Jonas_final_dist_Linfty', '<f8'), ('Jonas_number_of_iterations', '<i4'), ('LS_dist_L1', '<f8'), ('LS_dist_L2', '<f8'), ('LS_dist_Linfty', '<f8'), ('sample_size', '<i4'), ('time_exp', '<f8')])"
      ]
     },
     "execution_count": 45,
     "metadata": {},
     "output_type": "execute_result"
    }
   ],
   "source": [
    "c18.root.summary[:]"
   ]
  },
  {
   "cell_type": "code",
   "execution_count": 5,
   "id": "0f2418cd",
   "metadata": {},
   "outputs": [],
   "source": [
    "t7 = EG.tables.open_file('clean_progs/Jonas_experiment_7_qubits/vignette_7_qubits_1e7.h5', 'r')\n",
    "t8 = EG.tables.open_file('clean_progs/Jonas_experiment_7_qubits/vignette_7_qubits_1e8.h5', 'r')\n",
    "t9 = EG.tables.open_file('clean_progs/Jonas_experiment_7_qubits/vignette_7_qubits_1e9.h5', 'r')\n",
    "t10 = EG.tables.open_file('clean_progs/Jonas_experiment_7_qubits/vignette_7_qubits_1e10.h5', 'r')\n",
    "t12 = EG.tables.open_file('clean_progs/Jonas_experiment_7_qubits/vignette_7_qubits_1e12.h5', 'r')\n"
   ]
  },
  {
   "cell_type": "code",
   "execution_count": 6,
   "id": "a14e23fd",
   "metadata": {},
   "outputs": [],
   "source": [
    "H7 = t7.root.exp_repet0.projection_HIPswitch\n",
    "H8 = t8.root.exp_repet0.projection_HIPswitch\n",
    "H9 = t9.root.exp_repet0.projection_HIPswitch\n",
    "H10 = t10.root.exp_repet0.projection_HIPswitch\n",
    "H12 = t12.root.exp_repet0.projection_HIPswitch"
   ]
  },
  {
   "cell_type": "code",
   "execution_count": 42,
   "id": "33b9714c",
   "metadata": {},
   "outputs": [
    {
     "data": {
      "text/plain": [
       "<matplotlib.image.AxesImage at 0x7f06a9175a90>"
      ]
     },
     "execution_count": 42,
     "metadata": {},
     "output_type": "execute_result"
    }
   ],
   "source": [
    "figure(dpi=300)\n",
    "matshow(t7.root.exp_repet0.projection_HIPswitch.main_eigvecs_final[:,0].real.reshape(128, 128))"
   ]
  },
  {
   "cell_type": "code",
   "execution_count": 23,
   "id": "196ea825",
   "metadata": {},
   "outputs": [
    {
     "data": {
      "text/plain": [
       "<matplotlib.image.AxesImage at 0x7f06aa306e20>"
      ]
     },
     "execution_count": 23,
     "metadata": {},
     "output_type": "execute_result"
    }
   ],
   "source": [
    "figure(dpi=50)\n",
    "imshow(t7.root.exp_repet0.projection_HIPswitch.main_eigvecs_final[:,1].real.reshape(128, 128)[:64, :64])"
   ]
  },
  {
   "cell_type": "code",
   "execution_count": 37,
   "id": "d1466c95",
   "metadata": {},
   "outputs": [
    {
     "data": {
      "text/plain": [
       "<matplotlib.colorbar.Colorbar at 0x7f06aaea5eb0>"
      ]
     },
     "execution_count": 37,
     "metadata": {},
     "output_type": "execute_result"
    }
   ],
   "source": [
    "figure(dpi=300)\n",
    "imshow(t12.root.exp_repet0.projection_HIPswitch.main_eigvecs_final[:,1].real.reshape(128, 128)[32:96, 32:96]\n",
    "      + t12.root.exp_repet0.projection_HIPswitch.main_eigvecs_final[:,0].real.reshape(128, 128)[32:96, 32:96])\n",
    "grid(False)\n",
    "colorbar()"
   ]
  },
  {
   "cell_type": "code",
   "execution_count": 14,
   "id": "8ed4d10f",
   "metadata": {},
   "outputs": [
    {
     "data": {
      "text/plain": [
       "[<matplotlib.lines.Line2D at 0x7f06ac61e670>]"
      ]
     },
     "execution_count": 14,
     "metadata": {},
     "output_type": "execute_result"
    }
   ],
   "source": [
    "figure()\n",
    "plot(N.log10(-t7.root.exp_repet0.projection_HIPswitch.loops.cols.TP_least_ev[:]))"
   ]
  },
  {
   "cell_type": "code",
   "execution_count": 15,
   "id": "8874d664",
   "metadata": {},
   "outputs": [
    {
     "data": {
      "text/plain": [
       "[<matplotlib.lines.Line2D at 0x7f06abb03a30>]"
      ]
     },
     "execution_count": 15,
     "metadata": {},
     "output_type": "execute_result"
    }
   ],
   "source": [
    "figure()\n",
    "plot(N.log10(t7.root.exp_repet0.projection_HIPswitch.loops.cols.TP_dist_L2[:-1] - t7.root.exp_repet0.projection_HIPswitch.loops.cols.TP_dist_L2[-1]))"
   ]
  },
  {
   "cell_type": "code",
   "execution_count": 16,
   "id": "d9192b58",
   "metadata": {},
   "outputs": [
    {
     "data": {
      "text/plain": [
       "[<matplotlib.lines.Line2D at 0x7f06ab7b8280>]"
      ]
     },
     "execution_count": 16,
     "metadata": {},
     "output_type": "execute_result"
    }
   ],
   "source": [
    "figure()\n",
    "plot((t7.root.exp_repet0.projection_HIPswitch.loops.cols.TP_dist_L2[10:-1]))"
   ]
  },
  {
   "cell_type": "code",
   "execution_count": 17,
   "id": "c60059b0",
   "metadata": {},
   "outputs": [],
   "source": [
    "r7 = EG.retrieve_main('clean_progs/Jonas_experiment_7_qubits/vignette_7_qubits_1e7.h5')"
   ]
  },
  {
   "cell_type": "code",
   "execution_count": 89,
   "id": "afecc307",
   "metadata": {},
   "outputs": [
    {
     "data": {
      "text/plain": [
       "<matplotlib.colorbar.Colorbar at 0x7f069a781ca0>"
      ]
     },
     "execution_count": 89,
     "metadata": {},
     "output_type": "execute_result"
    }
   ],
   "source": [
    "fig, (ax7, ax8, ax9, ax10, ax12) = subplots(ncols=5)\n",
    "ims = []\n",
    "for t, ax in [(t7, ax7), (t8, ax8), (t9, ax9), (t10, ax10), (t12, ax12)]:\n",
    "    ims.append(ax.imshow(v1[t].real))\n",
    "    ax.grid(False)\n",
    "    \n",
    "clims = [im.get_clim() for im in ims[-1:]]\n",
    "vmin = min([clim[0] for clim in clims])\n",
    "vmax = max([clim[1] for clim in clims])\n",
    "for im in ims:\n",
    "    im.set_clim(vmin=vmin,vmax=vmax)    \n",
    "\n",
    "colorbar(ims[0], ax = (ax7, ax8, ax9, ax10, ax12))    "
   ]
  },
  {
   "cell_type": "code",
   "execution_count": 183,
   "id": "188b24c2",
   "metadata": {},
   "outputs": [],
   "source": [
    "fig, axes  = subplots(nrows=2, ncols=5, dpi=6 * (128 - 2 * 36))\n",
    "ax07, ax08, ax09, ax010, ax012 = axes[0]\n",
    "ax7, ax8, ax9, ax10, ax12 = axes[1]\n",
    "ims = []\n",
    "for t, ax in [(t7, ax7), (t8, ax8), (t9, ax9), (t10, ax10), (t12, ax12)]:\n",
    "    ims.append(ax.imshow(v2[t].imag[36:-36, 36:-36], cmap='inferno'))\n",
    "    ax.grid(False)\n",
    "    ax.tick_params(left=False, bottom=False, labelleft=False, labelbottom=False)\n",
    "\n",
    "    \n",
    "clims = [im.get_clim() for im in ims[-1:]]\n",
    "vmin = min([clim[0] for clim in clims])\n",
    "vmax = max([clim[1] for clim in clims])\n",
    "for im in ims:\n",
    "    im.set_clim(vmin=vmin,vmax=vmax)    \n",
    "\n",
    "ims = []\n",
    "for t, ax in [(t7, ax07), (t8, ax08), (t9, ax09), (t10, ax010), (t12, ax012)]:\n",
    "    ims.append(ax.imshow(v1[t].real[36:-36, 36:-36], cmap='inferno'))\n",
    "    ax.grid(False)\n",
    "    ax.tick_params(left=False, bottom=False, labelleft=False, labelbottom=False)\n",
    "\n",
    "    \n",
    "clims = [im.get_clim() for im in ims[-1:]]\n",
    "vmin = min([clim[0] for clim in clims])\n",
    "vmax = max([clim[1] for clim in clims])\n",
    "for im in ims:\n",
    "    im.set_clim(vmin=vmin,vmax=vmax)    \n",
    "subplots_adjust(wspace=.02, hspace=-0.48)\n",
    "#colorbar(ims[0], ax = (ax7, ax8, ax9, ax10, ax12), shrink=.3)    "
   ]
  },
  {
   "cell_type": "code",
   "execution_count": 128,
   "id": "ab6b5ad6",
   "metadata": {},
   "outputs": [],
   "source": []
  },
  {
   "cell_type": "code",
   "execution_count": 212,
   "id": "6b016629",
   "metadata": {},
   "outputs": [
    {
     "data": {
      "text/plain": [
       "<matplotlib.legend.Legend at 0x7f067633ff70>"
      ]
     },
     "execution_count": 212,
     "metadata": {},
     "output_type": "execute_result"
    }
   ],
   "source": [
    "figure()\n",
    "c1 = tolcolors_med_contrast['db']\n",
    "c2 = tolcolors_med_contrast['dy']\n",
    "c3 = tolcolors_med_contrast['dr']\n",
    "x = [1e7, 1e8, 1e9, 1e10, 1e12]\n",
    "plot(x,[H.end.cols.final_fidelity[:] for H in (H7, H8, H9, H10, H12)], label='fidelity', color = c1)\n",
    "plot(x,[H.end.cols.final_dist_L1 for H in (H7, H8, H9, H10, H12)], label='$L^1$ error', color = c2)\n",
    "xscale('log')\n",
    "ylim(0, 1)\n",
    "axvline(18**7, color=c3, ls='--')\n",
    "annotate('number of \\nmeasurement \\nsettings', (19**7, .3), color=c3)\n",
    "annotate('> 0.998', (1e12, 1), xytext=(2e11, .93), color=c1)\n",
    "annotate('< 0.006', (1e12, 0), xytext=(2e11, .04), color=c2)\n",
    "legend()"
   ]
  },
  {
   "cell_type": "code",
   "execution_count": 208,
   "id": "9762acdb",
   "metadata": {},
   "outputs": [
    {
     "data": {
      "text/plain": [
       "<matplotlib.legend.Legend at 0x7f06769eca60>"
      ]
     },
     "execution_count": 208,
     "metadata": {},
     "output_type": "execute_result"
    }
   ],
   "source": [
    "labels = ['True', '$10^7$', '$10^8$', '$10^9$', '$10^{10}$', '$10^{12}$']\n",
    "first_eigval = [.875]\n",
    "first_eigval += [H.main_eigvals_final[1] for H in (H7, H8, H9, H10, H12)]\n",
    "second_eigval = [.125]\n",
    "second_eigval += [H.main_eigvals_final[0] for H in (H7, H8, H9, H10, H12)]\n",
    "all_other_eigval = [0]\n",
    "all_other_eigval += [ (1 - H.main_eigvals_final[:].sum()) for H in (H7, H8, H9, H10, H12)]\n",
    "\n",
    "x = np.arange(6)  # the label locations\n",
    "width = 0.25  # the width of the bars\n",
    "\n",
    "fig, ax = plt.subplots()\n",
    "rects1 = ax.bar(x - width, first_eigval, width, color=c1, label='First eigenvalue')\n",
    "rects2 = ax.bar(x, second_eigval, width, color=c2, label='Second eigenvalue')\n",
    "rects3 = ax.bar(x + width, all_other_eigval, width, color=c3, label='Sum of other eigenvalues')\n",
    "\n",
    "axhline(.875, color=c1, ls=':')\n",
    "axhline(.125, color=c2, ls=':')\n",
    "\n",
    "ax.set_ylim(0,1)\n",
    "\n",
    "# Add some text for labels, title and custom x-axis tick labels, etc.\n",
    "#ax.set_ylabel('Scores')\n",
    "#ax.set_title('Scores by group and gender')\n",
    "ax.set_xticks(x)\n",
    "ax.set_xticklabels(labels)\n",
    "ax.legend()\n"
   ]
  },
  {
   "cell_type": "code",
   "execution_count": 188,
   "id": "8b047ebd",
   "metadata": {},
   "outputs": [
    {
     "data": {
      "text/plain": [
       "([0.875,\n",
       "  0.8232094726818122,\n",
       "  0.7945447675866234,\n",
       "  0.8525585857402327,\n",
       "  0.8636790471100192,\n",
       "  0.8737196369445372],\n",
       " [0.125,\n",
       "  0.04265898540287687,\n",
       "  0.0798535435184852,\n",
       "  0.10905582961028872,\n",
       "  0.11734789007458139,\n",
       "  0.12437797050835624],\n",
       " [0,\n",
       "  0.13413154191531096,\n",
       "  0.12560168889489143,\n",
       "  0.03838558464947861,\n",
       "  0.018973062815399455,\n",
       "  0.0019023925471065573])"
      ]
     },
     "execution_count": 188,
     "metadata": {},
     "output_type": "execute_result"
    }
   ],
   "source": [
    "first_eigval = [.875]\n",
    "first_eigval += [H.main_eigvals_final[1] for H in (H7, H8, H9, H10, H12)]\n",
    "second_eigval = [.125]\n",
    "second_eigval += [H.main_eigvals_final[0] for H in (H7, H8, H9, H10, H12)]\n",
    "all_other_eigval = [0]\n",
    "all_other_eigval += [ (1 - H.main_eigvals_final[:].sum()) for H in (H7, H8, H9, H10, H12)]\n",
    "first_eigval, second_eigval, all_other_eigval"
   ]
  },
  {
   "cell_type": "code",
   "execution_count": 177,
   "id": "68f5378f",
   "metadata": {},
   "outputs": [
    {
     "data": {
      "text/plain": [
       "(array([0.00536477]), array([0.00452471]))"
      ]
     },
     "execution_count": 177,
     "metadata": {},
     "output_type": "execute_result"
    }
   ],
   "source": [
    "H12.end.cols.final_dist_L1[:], H12.end.cols.TPfinal_dist_L1[:]"
   ]
  },
  {
   "cell_type": "code",
   "execution_count": 19,
   "id": "a19ed949",
   "metadata": {},
   "outputs": [
    {
     "data": {
      "text/plain": [
       "[array([2], dtype=int32),\n",
       " array([2, 3], dtype=int32),\n",
       " array([2, 4], dtype=int32),\n",
       " array([2, 5], dtype=int32),\n",
       " array([2, 5, 6], dtype=int32),\n",
       " array([2, 5, 6, 7], dtype=int32),\n",
       " array([2, 5, 6, 7, 8], dtype=int32),\n",
       " array([2, 5, 7, 9], dtype=int32),\n",
       " array([ 2,  5,  7,  9, 10], dtype=int32),\n",
       " array([ 2,  5,  7, 10, 11], dtype=int32),\n",
       " array([ 2,  5,  7, 10, 11, 12], dtype=int32),\n",
       " array([ 2,  5,  7, 10, 11, 12, 13], dtype=int32),\n",
       " array([ 2,  5,  7, 10, 11, 12, 13, 14], dtype=int32),\n",
       " array([ 2,  5,  7, 10, 11, 12, 13, 14, 15], dtype=int32),\n",
       " array([ 2,  5,  7, 10, 12, 13, 14, 15, 16], dtype=int32),\n",
       " array([ 2,  5,  7, 10, 12, 13, 14, 15, 16, 17], dtype=int32),\n",
       " array([ 2,  5,  7, 10, 12, 13, 14, 15, 16, 17, 18], dtype=int32),\n",
       " array([ 2,  5,  7, 10, 12, 13, 14, 15, 16, 17, 18, 19], dtype=int32),\n",
       " array([ 5,  7, 10, 12, 13, 14, 15, 16, 17, 18, 19, 20], dtype=int32),\n",
       " array([33], dtype=int32),\n",
       " array([33, 34], dtype=int32),\n",
       " array([33, 35], dtype=int32),\n",
       " array([33, 36], dtype=int32),\n",
       " array([33, 37], dtype=int32),\n",
       " array([33, 38], dtype=int32),\n",
       " array([33, 38, 39], dtype=int32),\n",
       " array([33, 40], dtype=int32),\n",
       " array([33, 41], dtype=int32),\n",
       " array([33, 41, 42], dtype=int32),\n",
       " array([33, 41, 42, 43], dtype=int32),\n",
       " array([33, 44], dtype=int32),\n",
       " array([33, 44, 45], dtype=int32),\n",
       " array([33, 45, 46], dtype=int32),\n",
       " array([33, 45, 46, 47], dtype=int32),\n",
       " array([33, 45, 46, 47, 48], dtype=int32),\n",
       " array([33, 48, 49], dtype=int32),\n",
       " array([33, 49, 50], dtype=int32),\n",
       " array([33, 50, 51], dtype=int32),\n",
       " array([33, 50, 51, 52], dtype=int32),\n",
       " array([33, 50, 51, 52, 53], dtype=int32),\n",
       " array([33, 50, 51, 52, 53, 54], dtype=int32),\n",
       " array([33, 54, 55], dtype=int32),\n",
       " array([33, 55, 56], dtype=int32),\n",
       " array([33, 55, 56, 57], dtype=int32),\n",
       " array([33, 55, 56, 57, 58], dtype=int32),\n",
       " array([33, 56, 57, 58, 59], dtype=int32),\n",
       " array([33, 56, 57, 58, 59, 60], dtype=int32),\n",
       " array([33, 56, 57, 58, 59, 60, 61], dtype=int32),\n",
       " array([33, 56, 60, 61, 62], dtype=int32),\n",
       " array([33, 56, 60, 61, 62, 63], dtype=int32),\n",
       " array([33, 56, 60, 62, 63, 64], dtype=int32),\n",
       " array([33, 56, 60, 62, 63, 64, 65], dtype=int32),\n",
       " array([33, 56, 60, 62, 63, 64, 65, 66], dtype=int32),\n",
       " array([33, 56, 60, 62, 63, 64, 65, 66, 67], dtype=int32),\n",
       " array([33, 56, 62, 63, 64, 65, 66, 67, 68], dtype=int32),\n",
       " array([33, 56, 63, 64, 65, 66, 67, 68, 69], dtype=int32),\n",
       " array([33, 56, 63, 65, 66, 67, 68, 69, 70], dtype=int32),\n",
       " array([33, 56, 63, 65, 66, 67, 68, 69, 70, 71], dtype=int32),\n",
       " array([33, 56, 63, 65, 66, 67, 69, 70, 71, 72], dtype=int32),\n",
       " array([33, 56, 63, 65, 66, 67, 69, 70, 71, 72, 73], dtype=int32),\n",
       " array([33, 56, 63, 65, 66, 67, 69, 70, 71, 72, 73, 74], dtype=int32),\n",
       " array([33, 56, 63, 65, 66, 69, 70, 71, 72, 73, 74, 75], dtype=int32),\n",
       " array([33, 56, 63, 65, 66, 69, 70, 71, 72, 73, 74, 75, 76], dtype=int32),\n",
       " array([33, 63, 65, 66, 71, 72, 73, 74, 75, 76, 77], dtype=int32),\n",
       " array([33, 63, 65, 71, 72, 74, 75, 76, 77, 78], dtype=int32),\n",
       " array([33, 63, 65, 71, 72, 74, 75, 76, 77, 78, 79], dtype=int32),\n",
       " array([33, 63, 65, 71, 72, 74, 75, 76, 77, 78, 79, 80], dtype=int32),\n",
       " array([33, 63, 65, 71, 72, 74, 76, 78, 79, 80, 81], dtype=int32),\n",
       " array([33, 63, 65, 71, 72, 74, 76, 78, 79, 80, 81, 82], dtype=int32),\n",
       " array([33, 63, 65, 71, 72, 74, 76, 78, 79, 80, 81, 82, 83], dtype=int32),\n",
       " array([33, 63, 65, 71, 72, 74, 76, 78, 79, 81, 82, 83, 84], dtype=int32),\n",
       " array([33, 63, 65, 71, 72, 74, 76, 78, 79, 81, 82, 83, 84, 85],\n",
       "       dtype=int32),\n",
       " array([33, 63, 65, 71, 72, 74, 76, 78, 79, 81, 82, 83, 84, 85, 86],\n",
       "       dtype=int32),\n",
       " array([63, 65, 71, 72, 74, 76, 78, 79, 81, 82, 86, 87], dtype=int32),\n",
       " array([95], dtype=int32),\n",
       " array([95, 96], dtype=int32),\n",
       " array([95, 96, 97], dtype=int32),\n",
       " array([95, 96, 97, 98], dtype=int32),\n",
       " array([95, 96, 97, 98, 99], dtype=int32),\n",
       " array([ 95,  96,  97,  98,  99, 100], dtype=int32),\n",
       " array([ 95,  97,  98,  99, 100, 101], dtype=int32),\n",
       " array([ 95,  97,  98,  99, 100, 101, 102], dtype=int32),\n",
       " array([ 95,  97,  98,  99, 100, 102, 103], dtype=int32),\n",
       " array([ 95,  97,  98,  99, 100, 103, 104], dtype=int32),\n",
       " array([ 95,  98,  99, 103, 104, 105], dtype=int32),\n",
       " array([ 95,  98,  99, 103, 104, 105, 106], dtype=int32),\n",
       " array([ 95,  98,  99, 104, 105, 106, 107], dtype=int32),\n",
       " array([ 95,  98,  99, 104, 105, 106, 107, 108], dtype=int32),\n",
       " array([ 95,  98, 104, 105, 106, 107, 108, 109], dtype=int32),\n",
       " array([ 95, 106, 108, 109, 110], dtype=int32),\n",
       " array([ 95, 106, 108, 109, 110, 111], dtype=int32),\n",
       " array([ 95, 106, 108, 109, 110, 111, 112], dtype=int32),\n",
       " array([ 95, 106, 108, 109, 110, 111, 112, 113], dtype=int32),\n",
       " array([ 95, 106, 108, 110, 111, 112, 113, 114], dtype=int32),\n",
       " array([ 95, 108, 110, 111, 112, 113, 114, 115], dtype=int32),\n",
       " array([ 95, 108, 110, 111, 112, 113, 114, 115, 116], dtype=int32),\n",
       " array([ 95, 108, 111, 112, 115, 116, 117], dtype=int32),\n",
       " array([ 95, 111, 112, 115, 116, 117, 118], dtype=int32),\n",
       " array([ 95, 111, 112, 115, 116, 117, 118, 119], dtype=int32),\n",
       " array([ 95, 111, 112, 115, 116, 117, 118, 119, 120], dtype=int32),\n",
       " array([ 95, 111, 112, 115, 116, 118, 119, 120, 121], dtype=int32),\n",
       " array([ 95, 111, 112, 115, 116, 118, 119, 120, 121, 122], dtype=int32),\n",
       " array([ 95, 111, 115, 116, 118, 120, 121, 122, 123], dtype=int32),\n",
       " array([ 95, 111, 116, 118, 120, 121, 122, 123, 124], dtype=int32),\n",
       " array([ 95, 111, 116, 118, 120, 122, 123, 124, 125], dtype=int32),\n",
       " array([ 95, 111, 116, 118, 120, 122, 123, 124, 125, 126], dtype=int32),\n",
       " array([ 95, 111, 116, 118, 120, 122, 124, 125, 126, 127], dtype=int32),\n",
       " array([ 95, 111, 116, 118, 120, 122, 124, 125, 126, 127, 128], dtype=int32),\n",
       " array([ 95, 111, 116, 118, 122, 124, 125, 126, 127, 128, 129], dtype=int32),\n",
       " array([ 95, 111, 118, 122, 124, 125, 126, 127, 128, 129, 130], dtype=int32),\n",
       " array([ 95, 118, 122, 124, 125, 126, 128, 129, 130, 131], dtype=int32),\n",
       " array([ 95, 118, 122, 124, 125, 126, 128, 129, 130, 131, 132], dtype=int32),\n",
       " array([ 95, 118, 122, 124, 125, 126, 128, 130, 131, 132, 133], dtype=int32),\n",
       " array([ 95, 118, 122, 124, 125, 126, 128, 130, 131, 132, 133, 134],\n",
       "       dtype=int32),\n",
       " array([ 95, 118, 122, 124, 125, 126, 128, 130, 132, 133, 134, 135],\n",
       "       dtype=int32),\n",
       " array([ 95, 118, 122, 124, 125, 126, 128, 130, 132, 133, 134, 135, 136],\n",
       "       dtype=int32),\n",
       " array([ 95, 124, 125, 126, 128, 130, 132, 134, 135, 136, 137], dtype=int32),\n",
       " array([ 95, 124, 125, 126, 128, 130, 132, 134, 135, 136, 137, 138],\n",
       "       dtype=int32),\n",
       " array([ 95, 124, 125, 126, 128, 132, 134, 136, 137, 138, 139], dtype=int32),\n",
       " array([ 95, 124, 125, 132, 134, 136, 137, 138, 139, 140], dtype=int32),\n",
       " array([ 95, 124, 125, 132, 134, 136, 137, 138, 139, 140, 141], dtype=int32),\n",
       " array([ 95, 124, 125, 132, 134, 136, 138, 139, 140, 141, 142], dtype=int32),\n",
       " array([ 95, 124, 125, 132, 134, 136, 138, 139, 140, 141, 142, 143],\n",
       "       dtype=int32),\n",
       " array([ 95, 124, 125, 132, 134, 136, 138, 140, 141, 142, 143, 144],\n",
       "       dtype=int32),\n",
       " array([ 95, 124, 125, 132, 134, 136, 138, 140, 141, 143, 144, 145],\n",
       "       dtype=int32),\n",
       " array([ 95, 124, 125, 132, 134, 136, 138, 140, 141, 143, 144, 145, 146],\n",
       "       dtype=int32),\n",
       " array([ 95, 124, 125, 132, 134, 136, 138, 140, 141, 143, 145, 146, 147],\n",
       "       dtype=int32),\n",
       " array([ 95, 124, 125, 132, 134, 136, 138, 140, 141, 143, 145, 146, 147,\n",
       "        148], dtype=int32),\n",
       " array([ 95, 124, 125, 132, 134, 136, 138, 140, 141, 143, 145, 146, 147,\n",
       "        148, 149], dtype=int32),\n",
       " array([ 95, 124, 132, 134, 136, 138, 140, 141, 143, 145, 146, 148, 149,\n",
       "        150], dtype=int32),\n",
       " array([ 95, 124, 132, 134, 136, 138, 140, 141, 143, 145, 146, 148, 149,\n",
       "        150, 151], dtype=int32),\n",
       " array([ 95, 124, 132, 134, 136, 138, 140, 141, 143, 145, 146, 148, 149,\n",
       "        150, 151, 152], dtype=int32),\n",
       " array([ 95, 124, 132, 134, 136, 138, 140, 141, 143, 145, 146, 148, 151,\n",
       "        152, 153], dtype=int32),\n",
       " array([ 95, 132, 134, 136, 138, 140, 141, 143, 145, 146, 148, 151, 152,\n",
       "        153, 154], dtype=int32),\n",
       " array([ 95, 132, 136, 138, 140, 143, 145, 146, 148, 151, 152, 153, 154,\n",
       "        155], dtype=int32),\n",
       " array([ 95, 132, 136, 138, 140, 143, 145, 146, 148, 151, 152, 153, 154,\n",
       "        155, 156], dtype=int32),\n",
       " array([ 95, 132, 136, 138, 140, 143, 145, 146, 148, 151, 152, 153, 154,\n",
       "        155, 156, 157], dtype=int32),\n",
       " array([ 95, 132, 136, 138, 140, 143, 145, 146, 148, 151, 152, 154, 155,\n",
       "        156, 157, 158], dtype=int32),\n",
       " array([ 95, 136, 138, 140, 143, 145, 146, 148, 151, 152, 154, 155, 156,\n",
       "        157, 158, 159], dtype=int32),\n",
       " array([ 95, 136, 138, 140, 143, 145, 146, 148, 151, 152, 154, 156, 157,\n",
       "        158, 159, 160], dtype=int32),\n",
       " array([ 95, 136, 138, 140, 145, 146, 148, 151, 152, 154, 156, 158, 159,\n",
       "        160, 161], dtype=int32),\n",
       " array([ 95, 136, 138, 140, 145, 146, 148, 151, 152, 154, 156, 158, 159,\n",
       "        160, 161, 162], dtype=int32),\n",
       " array([ 95, 136, 138, 140, 145, 146, 148, 151, 152, 154, 156, 158, 159,\n",
       "        160, 161, 162, 163], dtype=int32),\n",
       " array([ 95, 138, 140, 145, 146, 148, 151, 152, 154, 156, 159, 160, 161,\n",
       "        162, 163, 164], dtype=int32),\n",
       " array([ 95, 138, 140, 145, 146, 148, 151, 152, 154, 156, 159, 160, 161,\n",
       "        162, 163, 164, 165], dtype=int32),\n",
       " array([ 95, 138, 140, 145, 146, 148, 151, 152, 154, 156, 159, 161, 162,\n",
       "        163, 164, 165, 166], dtype=int32),\n",
       " array([ 95, 138, 140, 145, 146, 148, 151, 152, 154, 156, 159, 161, 162,\n",
       "        164, 165, 166, 167], dtype=int32),\n",
       " array([ 95, 138, 140, 145, 146, 148, 151, 152, 154, 156, 159, 161, 162,\n",
       "        164, 165, 166, 167, 168], dtype=int32),\n",
       " array([ 95, 138, 140, 145, 146, 148, 151, 152, 154, 156, 159, 161, 162,\n",
       "        165, 166, 167, 168, 169], dtype=int32),\n",
       " array([ 95, 138, 145, 146, 148, 151, 152, 154, 156, 159, 161, 162, 165,\n",
       "        167, 168, 169, 170], dtype=int32),\n",
       " array([ 95, 138, 145, 146, 148, 151, 152, 154, 156, 159, 161, 162, 165,\n",
       "        167, 168, 169, 170, 171], dtype=int32),\n",
       " array([ 95, 138, 145, 146, 148, 151, 152, 154, 156, 159, 161, 162, 165,\n",
       "        167, 168, 169, 170, 171, 172], dtype=int32),\n",
       " array([ 95, 138, 145, 146, 151, 152, 154, 159, 161, 162, 165, 167, 169,\n",
       "        170, 171, 172, 173], dtype=int32),\n",
       " array([ 95, 138, 145, 146, 151, 152, 154, 159, 161, 162, 167, 169, 170,\n",
       "        171, 172, 173, 174], dtype=int32),\n",
       " array([ 95, 145, 146, 151, 152, 154, 159, 161, 162, 167, 169, 172, 173,\n",
       "        174, 175], dtype=int32),\n",
       " array([ 95, 145, 146, 151, 152, 154, 159, 161, 162, 167, 169, 173, 174,\n",
       "        175, 176], dtype=int32),\n",
       " array([ 95, 145, 146, 151, 152, 154, 159, 161, 162, 167, 169, 174, 175,\n",
       "        176, 177], dtype=int32),\n",
       " array([ 95, 145, 146, 151, 152, 154, 159, 161, 162, 167, 169, 174, 175,\n",
       "        176, 177, 178], dtype=int32),\n",
       " array([ 95, 145, 146, 151, 152, 154, 159, 161, 162, 167, 169, 174, 175,\n",
       "        176, 177, 178, 179], dtype=int32),\n",
       " array([ 95, 145, 146, 151, 152, 154, 159, 161, 162, 167, 169, 174, 175,\n",
       "        176, 177, 178, 179, 180], dtype=int32),\n",
       " array([ 95, 146, 152, 154, 159, 161, 162, 167, 169, 177, 178, 179, 180,\n",
       "        181], dtype=int32),\n",
       " array([ 95, 146, 152, 154, 159, 161, 162, 167, 169, 179, 180, 181, 182],\n",
       "       dtype=int32),\n",
       " array([ 95, 146, 152, 154, 159, 161, 162, 167, 169, 180, 181, 182, 183],\n",
       "       dtype=int32),\n",
       " array([ 95, 152, 154, 159, 161, 162, 167, 169, 182, 183, 184], dtype=int32),\n",
       " array([ 95, 152, 154, 159, 161, 162, 167, 169, 182, 183, 184, 185],\n",
       "       dtype=int32),\n",
       " array([ 95, 152, 154, 159, 161, 162, 167, 169, 182, 183, 184, 185, 186],\n",
       "       dtype=int32),\n",
       " array([ 95, 152, 154, 159, 161, 162, 167, 169, 182, 183, 184, 185, 186,\n",
       "        187], dtype=int32),\n",
       " array([ 95, 152, 154, 159, 161, 162, 167, 169, 182, 183, 184, 185, 186,\n",
       "        187, 188], dtype=int32),\n",
       " array([ 95, 152, 154, 159, 161, 162, 167, 169, 182, 183, 184, 185, 186,\n",
       "        187, 188, 189], dtype=int32),\n",
       " array([ 95, 154, 159, 161, 162, 167, 169, 183, 186, 187, 188, 189, 190],\n",
       "       dtype=int32),\n",
       " array([ 95, 154, 159, 161, 162, 167, 169, 183, 187, 188, 189, 190, 191],\n",
       "       dtype=int32),\n",
       " array([ 95, 154, 159, 161, 162, 167, 169, 183, 188, 189, 190, 191, 192],\n",
       "       dtype=int32),\n",
       " array([ 95, 154, 159, 161, 162, 167, 169, 183, 189, 190, 191, 192, 193],\n",
       "       dtype=int32),\n",
       " array([ 95, 154, 159, 161, 162, 167, 169, 183, 189, 190, 191, 192, 193,\n",
       "        194], dtype=int32),\n",
       " array([ 95, 154, 159, 161, 162, 167, 169, 183, 190, 191, 192, 193, 194,\n",
       "        195], dtype=int32),\n",
       " array([ 95, 154, 159, 161, 162, 167, 169, 183, 190, 191, 192, 193, 194,\n",
       "        195, 196], dtype=int32),\n",
       " array([ 95, 154, 159, 161, 162, 167, 169, 183, 191, 192, 193, 194, 195,\n",
       "        196, 197], dtype=int32)]"
      ]
     },
     "execution_count": 19,
     "metadata": {},
     "output_type": "execute_result"
    }
   ],
   "source": [
    "t7.root.exp_repet0.projection_HIPswitch.active_w[:]"
   ]
  },
  {
   "cell_type": "code",
   "execution_count": 215,
   "id": "616f9f5d",
   "metadata": {},
   "outputs": [
    {
     "data": {
      "text/plain": [
       "'3.4.1'"
      ]
     },
     "execution_count": 215,
     "metadata": {},
     "output_type": "execute_result"
    }
   ],
   "source": [
    "mpl.__version__"
   ]
  },
  {
   "cell_type": "code",
   "execution_count": null,
   "id": "fbb52854",
   "metadata": {},
   "outputs": [],
   "source": [
    "GridSpec"
   ]
  },
  {
   "cell_type": "code",
   "execution_count": 8,
   "id": "c54e7f37",
   "metadata": {},
   "outputs": [],
   "source": [
    "import cmath\n",
    "def align(ref_vec, test_vec):\n",
    "    phi = cmath.phase(N.vdot(ref_vec, test_vec))\n",
    "    return test_vec * exp(- phi * 1j)"
   ]
  },
  {
   "cell_type": "code",
   "execution_count": 31,
   "id": "d664d066",
   "metadata": {},
   "outputs": [],
   "source": [
    "v1r, v2i = {}, {}\n",
    "for t in [t7, t8, t9, t10, t12]:\n",
    "    v1r[t] = align(t.root.main_eigvecs_true[:,1], t.root.exp_repet0.projection_HIPswitch.main_eigvecs_final[:,1]).real.reshape(128, 128)\n",
    "    v2i[t] = align(t.root.main_eigvecs_true[:,0], t.root.exp_repet0.projection_HIPswitch.main_eigvecs_final[:,0]).imag.reshape(128, 128)"
   ]
  },
  {
   "cell_type": "code",
   "execution_count": 32,
   "id": "d7829dd6",
   "metadata": {},
   "outputs": [],
   "source": [
    "v1i, v2r = {}, {}\n",
    "for t in [t7, t8, t9, t10, t12]:\n",
    "    v1i[t] = align(t.root.main_eigvecs_true[:,1], t.root.exp_repet0.projection_HIPswitch.main_eigvecs_final[:,1]).imag.reshape(128, 128)\n",
    "    v2r[t] = align(t.root.main_eigvecs_true[:,0], t.root.exp_repet0.projection_HIPswitch.main_eigvecs_final[:,0]).real.reshape(128, 128)"
   ]
  },
  {
   "cell_type": "code",
   "execution_count": 16,
   "id": "dda31d8a",
   "metadata": {},
   "outputs": [],
   "source": [
    "figure()\n",
    "imshow(v1r[t7])\n",
    "show()"
   ]
  },
  {
   "cell_type": "code",
   "execution_count": 21,
   "id": "8e10accc",
   "metadata": {},
   "outputs": [],
   "source": [
    "ioff()\n",
    "fig = figure(figsize=(12,9), dpi = 6 * (128 - 2 * 36))\n",
    "# If you want to see in the notebook or around, change to:\n",
    "# ion()\n",
    "#fig = figure(figsize=(12,9), dpi = 2 * (128 - 2 * 36))\n",
    "\n",
    "gs0 = GridSpec(1, 2, top=.92, bottom=.5)\n",
    "gs1 = GridSpec(2, 5, top=.5)\n",
    "\n",
    "ax_loss = fig.add_subplot(gs0[0])\n",
    "\n",
    "c1 = tolcolors_med_contrast['db']\n",
    "c2 = tolcolors_med_contrast['dy']\n",
    "c3 = tolcolors_med_contrast['dr']\n",
    "x = [1e7, 1e8, 1e9, 1e10, 1e12]\n",
    "ax_loss.plot(x,[H.end.cols.final_fidelity[:] for H in (H7, H8, H9, H10, H12)], label='fidelity', color = c1)\n",
    "ax_loss.plot(x,[H.end.cols.final_dist_L1 for H in (H7, H8, H9, H10, H12)], label='$L^1$ error', color = c2)\n",
    "ax_loss.set_xscale('log')\n",
    "ax_loss.set_ylim(0)\n",
    "ax_loss.axvline(18**7, color=c3, ls='--')\n",
    "ax_loss.annotate('number of \\nmeasurement \\nsettings', (19**7, .3), color=c3)\n",
    "ax_loss.annotate('> 0.998', (1e12, 1), xytext=(2e11, .93), color=c1)\n",
    "ax_loss.annotate('< 0.006', (1e12, 0), xytext=(2e11, .04), color=c2)\n",
    "ax_loss.legend(loc='lower left')\n",
    "\n",
    "ax_values = fig.add_subplot(gs0[1])\n",
    "labels = ['True', '$10^7$', '$10^8$', '$10^9$', '$10^{10}$', '$10^{12}$']\n",
    "first_eigval = [.875]\n",
    "first_eigval += [H.main_eigvals_final[1] for H in (H7, H8, H9, H10, H12)]\n",
    "second_eigval = [.125]\n",
    "second_eigval += [H.main_eigvals_final[0] for H in (H7, H8, H9, H10, H12)]\n",
    "all_other_eigval = [0]\n",
    "all_other_eigval += [ (1 - H.main_eigvals_final[:].sum()) for H in (H7, H8, H9, H10, H12)]\n",
    "\n",
    "x = np.arange(6)  # the label locations\n",
    "width = 0.25  # the width of the bars\n",
    "\n",
    "rects1 = ax_values.bar(x - width, first_eigval, width, color=c1, label='First eigenvalue')\n",
    "rects2 = ax_values.bar(x, second_eigval, width, color=c2, label='Second eigenvalue')\n",
    "rects3 = ax_values.bar(x + width, all_other_eigval, width, color=c3, label='Sum of other eigenvalues')\n",
    "\n",
    "ax_values.axhline(.875, color=c1, ls=':')\n",
    "ax_values.axhline(.125, color=c2, ls=':')\n",
    "\n",
    "ax_values.set_ylim(0,1)\n",
    "\n",
    "# Add some text for labels, title and custom x-axis tick labels, etc.\n",
    "#ax.set_ylabel('Scores')\n",
    "#ax.set_title('Scores by group and gender')\n",
    "ax_values.set_xticks(x)\n",
    "ax_values.set_xticklabels(labels)\n",
    "ax_values.legend()\n",
    "\n",
    "\n",
    "axB = {}\n",
    "for i in range(2):\n",
    "    for j in range(5):\n",
    "        axB[i,j] = fig.add_subplot(gs1[i,j])\n",
    "\n",
    "ts = [t7, t8, t9, t10, t12]\n",
    "vs = [v1r, v2i]\n",
    "for i, v in enumerate(vs):\n",
    "    ims = []\n",
    "    for j, t in enumerate(ts):        \n",
    "        ims.append(axB[i,j].imshow(v[t][36:-36, 36:-36], cmap='inferno'))\n",
    "        axB[i,j].grid(False)\n",
    "        axB[i,j].tick_params(left=False, bottom=False, labelleft=False, labelbottom=False)\n",
    "\n",
    "    clims = [im.get_clim() for im in ims[-1:]]\n",
    "    vmin = min([clim[0] for clim in clims])\n",
    "    vmax = max([clim[1] for clim in clims])    \n",
    "    for im in ims:\n",
    "        im.set_clim(vmin=vmin,vmax=vmax)    \n",
    "\n",
    "        \n",
    "        \n",
    "#subplots_adjust(wspace=.02, hspace=-0.3)\n",
    "#colorbar(ims[0], ax = (ax7, ax8, ax9, ax10, ax12), shrink=.3)    "
   ]
  },
  {
   "cell_type": "code",
   "execution_count": 22,
   "id": "c1d564ce",
   "metadata": {},
   "outputs": [],
   "source": [
    "axB[0,0].set_ylabel('First eigenvector')\n",
    "axB[1,0].set_ylabel('Second eigenvector')\n",
    "axB[1,0].set_xlabel('$10^7$ samples')\n",
    "axB[1,1].set_xlabel('$10^8$ samples')\n",
    "axB[1,2].set_xlabel('$10^9$ samples')\n",
    "axB[1,3].set_xlabel('$10^{10}$ samples')\n",
    "axB[1,4].set_xlabel('$10^{12}$ samples')\n",
    "ax_values.set_xlabel('Sample size')\n",
    "ax_loss.set_xlabel('Sample size')\n",
    "\n",
    "fig.suptitle('Full channel tomography of a noisy (2-rank) QFT on 7 qubits with Pauli measurements', \n",
    "             fontsize='large', fontweight='bold', x=.52)\n",
    "\n",
    "gs0.bottom = .59\n",
    "gs0.left=.1\n",
    "gs0.right=.95\n",
    "gs0.top=.93\n",
    "gs0.update()\n",
    "\n",
    "gs1.left=.08\n",
    "gs1.right=.95\n",
    "gs1.wspace = 0.02\n",
    "gs1.hspace = .02\n",
    "gs1.bottom = .05\n",
    "gs1.top = .51\n",
    "gs1.update()"
   ]
  },
  {
   "cell_type": "code",
   "execution_count": 23,
   "id": "a89db076",
   "metadata": {},
   "outputs": [
    {
     "data": {
      "text/plain": [
       "<matplotlib.pyplot._IonContext at 0x7fdf86965580>"
      ]
     },
     "execution_count": 23,
     "metadata": {},
     "output_type": "execute_result"
    }
   ],
   "source": [
    "fig.savefig('vignette.png')\n",
    "ion()"
   ]
  },
  {
   "cell_type": "code",
   "execution_count": 24,
   "id": "8cbb1707",
   "metadata": {},
   "outputs": [
    {
     "data": {
      "text/plain": [
       "<matplotlib.pyplot._IonContext at 0x7fdf83062eb0>"
      ]
     },
     "execution_count": 24,
     "metadata": {},
     "output_type": "execute_result"
    }
   ],
   "source": [
    "ioff()\n",
    "fig.savefig('vignette.pdf')\n",
    "ion()"
   ]
  },
  {
   "cell_type": "code",
   "execution_count": 36,
   "id": "00cb91f0",
   "metadata": {},
   "outputs": [],
   "source": [
    "fig, axB = subplots(4, 5, figsize=(12,9), dpi = 2 * (128 - 2 * 36))\n",
    "\n",
    "\n",
    "ts = [t7, t8, t9, t10, t12]\n",
    "vs = [v1r, v1i, v2r, v2i]\n",
    "for i, v in enumerate(vs):\n",
    "    ims = []\n",
    "    for j, t in enumerate(ts):        \n",
    "        ims.append(axB[i,j].imshow(v[t][36:-36, 36:-36], cmap='inferno'))\n",
    "        axB[i,j].grid(False)\n",
    "        axB[i,j].tick_params(left=False, bottom=False, labelleft=False, labelbottom=False)\n",
    "\n",
    "    clims = [im.get_clim() for im in ims[-1:]]\n",
    "    vmin = min([clim[0] for clim in clims])\n",
    "    vmax = max([clim[1] for clim in clims])    \n",
    "    for im in ims:\n",
    "        im.set_clim(vmin=vmin,vmax=vmax)    "
   ]
  },
  {
   "cell_type": "code",
   "execution_count": 37,
   "id": "798b7603",
   "metadata": {},
   "outputs": [],
   "source": [
    "subplots_adjust(wspace=.02, hspace=.02)"
   ]
  },
  {
   "cell_type": "code",
   "execution_count": null,
   "id": "3b6088fa",
   "metadata": {},
   "outputs": [],
   "source": [
    "gs[1].subgridspec"
   ]
  },
  {
   "cell_type": "code",
   "execution_count": 287,
   "id": "8d27b7cb",
   "metadata": {},
   "outputs": [],
   "source": [
    "subplots_adjust?"
   ]
  },
  {
   "cell_type": "code",
   "execution_count": 270,
   "id": "e0aa6f95",
   "metadata": {},
   "outputs": [],
   "source": [
    "GridSpec?"
   ]
  },
  {
   "cell_type": "code",
   "execution_count": 302,
   "id": "7d6ad193",
   "metadata": {},
   "outputs": [],
   "source": [
    "superfig.subplots?"
   ]
  },
  {
   "cell_type": "code",
   "execution_count": 286,
   "id": "616b0577",
   "metadata": {},
   "outputs": [
    {
     "data": {
      "text/plain": [
       "Text(0.5, 0.995, 'Full channel tomography of a noisy (2-rank) QFT on 7 qubits with Pauli measurements')"
      ]
     },
     "execution_count": 286,
     "metadata": {},
     "output_type": "execute_result"
    }
   ],
   "source": [
    "superfig.suptitle('Full channel tomography of a noisy (2-rank) QFT on 7 qubits with Pauli measurements', fontsize='x-large', y=.995)\n"
   ]
  },
  {
   "cell_type": "code",
   "execution_count": 291,
   "id": "d7d60fc7",
   "metadata": {},
   "outputs": [],
   "source": [
    "GridSpec?"
   ]
  },
  {
   "cell_type": "code",
   "execution_count": 292,
   "id": "2f5851bb",
   "metadata": {},
   "outputs": [],
   "source": [
    "mpl.gridspec.GridSpecFromSubplotSpec?"
   ]
  },
  {
   "cell_type": "code",
   "execution_count": 293,
   "id": "69db7f8e",
   "metadata": {},
   "outputs": [],
   "source": [
    "superfig.add_subplot?"
   ]
  },
  {
   "cell_type": "code",
   "execution_count": 305,
   "id": "c36829eb",
   "metadata": {},
   "outputs": [
    {
     "name": "stdout",
     "output_type": "stream",
     "text": [
      "(0, 3)\n",
      "(1, 100.0)\n",
      "(2, 'a')\n"
     ]
    }
   ],
   "source": [
    "for i, con in enumerate([3, 1e2, 'a']):\n",
    "    print((i, con))"
   ]
  },
  {
   "cell_type": "code",
   "execution_count": 308,
   "id": "8b3b39f9",
   "metadata": {},
   "outputs": [],
   "source": [
    "d = {}\n",
    "d[1,4]  = 2"
   ]
  },
  {
   "cell_type": "code",
   "execution_count": 309,
   "id": "5fc96f77",
   "metadata": {},
   "outputs": [
    {
     "data": {
      "text/plain": [
       "2"
      ]
     },
     "execution_count": 309,
     "metadata": {},
     "output_type": "execute_result"
    }
   ],
   "source": [
    "d[1,4]"
   ]
  },
  {
   "cell_type": "code",
   "execution_count": null,
   "id": "201de4d8",
   "metadata": {},
   "outputs": [],
   "source": []
  }
 ],
 "metadata": {
  "kernelspec": {
   "display_name": "Python 3",
   "language": "python",
   "name": "python3"
  },
  "language_info": {
   "codemirror_mode": {
    "name": "ipython",
    "version": 3
   },
   "file_extension": ".py",
   "mimetype": "text/x-python",
   "name": "python",
   "nbconvert_exporter": "python",
   "pygments_lexer": "ipython3",
   "version": "3.8.5"
  }
 },
 "nbformat": 4,
 "nbformat_minor": 5
}
